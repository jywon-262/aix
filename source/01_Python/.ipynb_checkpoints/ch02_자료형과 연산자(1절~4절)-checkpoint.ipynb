{
 "cells": [
  {
   "cell_type": "code",
   "execution_count": 1,
   "id": "2990167e",
   "metadata": {},
   "outputs": [
    {
     "data": {
      "text/html": [
       "\n",
       "<style>\n",
       "div.container{width:90% !important;}\n",
       "div.cell.code_cell.rendered{width:100%;}\n",
       "div.input_prompt{padding:0px;}\n",
       "div.CodeMirror {font-family:Consolas; font-size:12pt;}\n",
       "div.text_cell_render.rendered_html{font-size:12pt;}\n",
       "div.output {font-size:12pt; font-weight:bold;}\n",
       "div.input {font-family:Consolas; font-size:12pt;}\n",
       "div.prompt {min-width:70px;}\n",
       "div#toc-wrapper{padding-top:120px;}\n",
       "div.text_cell_render ul li{font-size:12pt;padding:5px;}\n",
       "table.dataframe{font-size:12px;}\n",
       "</style>\n"
      ],
      "text/plain": [
       "<IPython.core.display.HTML object>"
      ]
     },
     "metadata": {},
     "output_type": "display_data"
    }
   ],
   "source": [
    "from IPython.display import display, HTML\n",
    "display(HTML(\"\"\"\n",
    "<style>\n",
    "div.container{width:90% !important;}\n",
    "div.cell.code_cell.rendered{width:100%;}\n",
    "div.input_prompt{padding:0px;}\n",
    "div.CodeMirror {font-family:Consolas; font-size:12pt;}\n",
    "div.text_cell_render.rendered_html{font-size:12pt;}\n",
    "div.output {font-size:12pt; font-weight:bold;}\n",
    "div.input {font-family:Consolas; font-size:12pt;}\n",
    "div.prompt {min-width:70px;}\n",
    "div#toc-wrapper{padding-top:120px;}\n",
    "div.text_cell_render ul li{font-size:12pt;padding:5px;}\n",
    "table.dataframe{font-size:12px;}\n",
    "</style>\n",
    "\"\"\"))"
   ]
  },
  {
   "cell_type": "markdown",
   "id": "8490626d",
   "metadata": {},
   "source": [
    "<b><font size=\"6\" color=\"red\">ch02. 자료형과 연산자</font></b>\n",
    "\n",
    "# 1절. 변수\n",
    "- 변수 : 프로그램 작업 처리를 위해, 값을 저장할 수 있는 메모리 공간\n",
    "- 파이썬은 변수 선언을 위한 타입이 없고, 별도의 선언 과정도 없음\n",
    "\n",
    " ## 1.1 변수 할당\n",
    " - 할당연산자(=)을 이용해서 값을 할당하면 자료형(타입)이 셋팅\n",
    " - **파이썬에서의 모든 변수는 객체로 저장**"
   ]
  },
  {
   "cell_type": "code",
   "execution_count": 2,
   "id": "9620bfda",
   "metadata": {},
   "outputs": [
    {
     "name": "stdout",
     "output_type": "stream",
     "text": [
      "넓이 : 78.5\n"
     ]
    }
   ],
   "source": [
    "r = 5\n",
    "area = 3.14 * r * r\n",
    "print('넓이 :', area)"
   ]
  },
  {
   "cell_type": "code",
   "execution_count": 4,
   "id": "5b8ad6e5",
   "metadata": {},
   "outputs": [
    {
     "name": "stdout",
     "output_type": "stream",
     "text": [
      "넓이 : 78.53981633974483\n"
     ]
    }
   ],
   "source": [
    "import numpy as np # numpy패키지를 np라는 이름으로 사용\n",
    "area = np.pi * r * r\n",
    "print('넓이 :', area)"
   ]
  },
  {
   "cell_type": "code",
   "execution_count": 5,
   "id": "a9b3f44b",
   "metadata": {},
   "outputs": [
    {
     "name": "stdout",
     "output_type": "stream",
     "text": [
      "area의 주소 : 1743475098480\n",
      "area의 타입 : <class 'float'>\n"
     ]
    }
   ],
   "source": [
    "print('area의 주소 :', id(area))\n",
    "print('area의 타입 :', type(area))"
   ]
  },
  {
   "cell_type": "code",
   "execution_count": 6,
   "id": "d554d80b",
   "metadata": {},
   "outputs": [
    {
     "data": {
      "text/plain": [
       "False"
      ]
     },
     "execution_count": 6,
     "metadata": {},
     "output_type": "execute_result"
    }
   ],
   "source": [
    "area.is_integer()"
   ]
  },
  {
   "cell_type": "code",
   "execution_count": 7,
   "id": "bcfa56dc",
   "metadata": {},
   "outputs": [
    {
     "name": "stdout",
     "output_type": "stream",
     "text": [
      "area의 주소 : 1743392539152\n",
      "area의 타입 : <class 'int'>\n"
     ]
    }
   ],
   "source": [
    "area = 10\n",
    "print('area의 주소 :', id(area))\n",
    "print('area의 타입 :', type(area))"
   ]
  },
  {
   "cell_type": "code",
   "execution_count": 8,
   "id": "ca7c2350",
   "metadata": {},
   "outputs": [
    {
     "name": "stdout",
     "output_type": "stream",
     "text": [
      "area의 주소 : 1743512569392\n",
      "area의 타입 : <class 'str'>\n"
     ]
    }
   ],
   "source": [
    "area = \"파이썬\"\n",
    "print('area의 주소 :', id(area))\n",
    "print('area의 타입 :', type(area))"
   ]
  },
  {
   "cell_type": "markdown",
   "id": "e0b72e51",
   "metadata": {},
   "source": [
    " ## 1.2 변수(함수) 이름 규칙\n",
    " - 문자로 시작\n",
    " - 문자(특수문자는 \" _ \" 외에는 불가), 숫자, _ 로 변수명 작성\n",
    " - 함수명은 변수명으로 가능하나 피한다. 꼭 써야 한다면 str_ 식으로 사용한다.\n",
    " - 파이썬 예약어(for, if, def, class... 등)은 변수명 사용 불가\n",
    " - 한글 변수는 꼭 필요시에만 사용"
   ]
  },
  {
   "cell_type": "code",
   "execution_count": 9,
   "id": "70e314de",
   "metadata": {},
   "outputs": [
    {
     "name": "stdout",
     "output_type": "stream",
     "text": [
      "홍길동\n"
     ]
    }
   ],
   "source": [
    "이름 = \"홍길동\" # 비추\n",
    "print(이름)"
   ]
  },
  {
   "cell_type": "code",
   "execution_count": 10,
   "id": "ed6b8f62",
   "metadata": {},
   "outputs": [
    {
     "ename": "SyntaxError",
     "evalue": "invalid syntax (3039934606.py, line 1)",
     "output_type": "error",
     "traceback": [
      "\u001b[1;36m  Cell \u001b[1;32mIn[10], line 1\u001b[1;36m\u001b[0m\n\u001b[1;33m    for = 5\u001b[0m\n\u001b[1;37m        ^\u001b[0m\n\u001b[1;31mSyntaxError\u001b[0m\u001b[1;31m:\u001b[0m invalid syntax\n"
     ]
    }
   ],
   "source": [
    "for = 5"
   ]
  },
  {
   "cell_type": "code",
   "execution_count": 12,
   "id": "db311b44",
   "metadata": {},
   "outputs": [
    {
     "name": "stdout",
     "output_type": "stream",
     "text": [
      "홍길동 홍길동\n"
     ]
    }
   ],
   "source": [
    "# member.name = \"홍길동\" #.사용 안됨\n",
    "member_name = \"홍길동\"\n",
    "memberName = \"홍길동\"\n",
    "print(member_name, memberName)"
   ]
  },
  {
   "cell_type": "code",
   "execution_count": 13,
   "id": "8842f63d",
   "metadata": {},
   "outputs": [
    {
     "name": "stdout",
     "output_type": "stream",
     "text": [
      "<class 'complex'>\n"
     ]
    }
   ],
   "source": [
    "# 숫자 : 정수, 실수, 복소수\n",
    "i = 1 + 3j #복소수\n",
    "print(type(i))"
   ]
  },
  {
   "cell_type": "code",
   "execution_count": 14,
   "id": "fa9f8744",
   "metadata": {},
   "outputs": [
    {
     "data": {
      "text/plain": [
       "True"
      ]
     },
     "execution_count": 14,
     "metadata": {},
     "output_type": "execute_result"
    }
   ],
   "source": [
    "isinstance(i, complex) # i변수가 complex 타입의 객체인지?"
   ]
  },
  {
   "cell_type": "code",
   "execution_count": 15,
   "id": "741cdf7f",
   "metadata": {},
   "outputs": [
    {
     "data": {
      "text/plain": [
       "False"
      ]
     },
     "execution_count": 15,
     "metadata": {},
     "output_type": "execute_result"
    }
   ],
   "source": [
    "isinstance(i, int) # i변수가 int타입의 객체인지?"
   ]
  },
  {
   "cell_type": "markdown",
   "id": "ea9ae12e",
   "metadata": {},
   "source": [
    " ## 1.3 다중 변수 선언"
   ]
  },
  {
   "cell_type": "code",
   "execution_count": 18,
   "id": "a591d4bc",
   "metadata": {},
   "outputs": [],
   "source": [
    "a = 10\n",
    "b = 20"
   ]
  },
  {
   "cell_type": "code",
   "execution_count": 22,
   "id": "0f5ebf88",
   "metadata": {},
   "outputs": [
    {
     "name": "stdout",
     "output_type": "stream",
     "text": [
      "10 20\n"
     ]
    }
   ],
   "source": [
    "a, b = 10, 20\n",
    "print (a, b)"
   ]
  },
  {
   "cell_type": "code",
   "execution_count": 23,
   "id": "03b121a6",
   "metadata": {},
   "outputs": [
    {
     "name": "stdout",
     "output_type": "stream",
     "text": [
      "20 30\n"
     ]
    }
   ],
   "source": [
    "a, b = b, a+b # 다중 변수 할당시 순차적 할당이 아니고, 일괄 동시 할당\n",
    "print(a, b)"
   ]
  },
  {
   "cell_type": "markdown",
   "id": "b7f0fa43",
   "metadata": {},
   "source": [
    " ## 1.4 도움말"
   ]
  },
  {
   "cell_type": "code",
   "execution_count": 24,
   "id": "d85a3b9a",
   "metadata": {
    "collapsed": true
   },
   "outputs": [
    {
     "name": "stdout",
     "output_type": "stream",
     "text": [
      "Help on built-in function print in module builtins:\n",
      "\n",
      "print(...)\n",
      "    print(value, ..., sep=' ', end='\\n', file=sys.stdout, flush=False)\n",
      "    \n",
      "    Prints the values to a stream, or to sys.stdout by default.\n",
      "    Optional keyword arguments:\n",
      "    file:  a file-like object (stream); defaults to the current sys.stdout.\n",
      "    sep:   string inserted between values, default a space.\n",
      "    end:   string appended after the last value, default a newline.\n",
      "    flush: whether to forcibly flush the stream.\n",
      "\n"
     ]
    }
   ],
   "source": [
    "help(print)"
   ]
  },
  {
   "cell_type": "code",
   "execution_count": 25,
   "id": "561f371b",
   "metadata": {
    "collapsed": true
   },
   "outputs": [
    {
     "name": "stdout",
     "output_type": "stream",
     "text": [
      "\n",
      "Welcome to Python 3.10's help utility!\n",
      "\n",
      "If this is your first time using Python, you should definitely check out\n",
      "the tutorial on the internet at https://docs.python.org/3.10/tutorial/.\n",
      "\n",
      "Enter the name of any module, keyword, or topic to get help on writing\n",
      "Python programs and using Python modules.  To quit this help utility and\n",
      "return to the interpreter, just type \"quit\".\n",
      "\n",
      "To get a list of available modules, keywords, symbols, or topics, type\n",
      "\"modules\", \"keywords\", \"symbols\", or \"topics\".  Each module also comes\n",
      "with a one-line summary of what it does; to list the modules whose name\n",
      "or summary contain a given string such as \"spam\", type \"modules spam\".\n",
      "\n",
      "help> q\n",
      "\n",
      "You are now leaving help and returning to the Python interpreter.\n",
      "If you want to ask for help on a particular object directly from the\n",
      "interpreter, you can type \"help(object)\".  Executing \"help('string')\"\n",
      "has the same effect as typing a particular string at the help> prompt.\n"
     ]
    }
   ],
   "source": [
    "help() # help 빠져나오기 : q / 결과접기/펴기 : esc+o"
   ]
  },
  {
   "cell_type": "code",
   "execution_count": null,
   "id": "5ed2a1e9",
   "metadata": {},
   "outputs": [],
   "source": [
    "# 도움말 기능 : shift + tab 키\n",
    "print()"
   ]
  },
  {
   "cell_type": "code",
   "execution_count": 26,
   "id": "51d700f3",
   "metadata": {},
   "outputs": [],
   "source": [
    "def add(x, y=0):\n",
    "    '''\n",
    "    매개변수(x, y) 2개를 받아 두자리 숫자로 만드는 함수\n",
    "    x = 10의 자리수가 되고\n",
    "    y = 1의 자리수가 됨(default값 0)\n",
    "    '''\n",
    "    return x*10 + y"
   ]
  },
  {
   "cell_type": "code",
   "execution_count": 27,
   "id": "b3d63435",
   "metadata": {},
   "outputs": [
    {
     "data": {
      "text/plain": [
       "34"
      ]
     },
     "execution_count": 27,
     "metadata": {},
     "output_type": "execute_result"
    }
   ],
   "source": [
    "add(3, 4)"
   ]
  },
  {
   "cell_type": "code",
   "execution_count": 28,
   "id": "dda6b5a4",
   "metadata": {},
   "outputs": [
    {
     "data": {
      "text/plain": [
       "30"
      ]
     },
     "execution_count": 28,
     "metadata": {},
     "output_type": "execute_result"
    }
   ],
   "source": [
    "add(3)"
   ]
  },
  {
   "cell_type": "markdown",
   "id": "6edb4437",
   "metadata": {},
   "source": [
    "# 2절. 화면 입출력 (i/o)"
   ]
  },
  {
   "cell_type": "code",
   "execution_count": 30,
   "id": "8fe92c65",
   "metadata": {},
   "outputs": [
    {
     "name": "stdout",
     "output_type": "stream",
     "text": [
      "아무거나\n",
      "아무거나\n"
     ]
    }
   ],
   "source": [
    "# input() : 사용자로부터 값을 입력받기 위한 함수. 입력값은 문자(str)로 받음\n",
    "first = input()\n",
    "print(first)"
   ]
  },
  {
   "cell_type": "code",
   "execution_count": 31,
   "id": "87038098",
   "metadata": {},
   "outputs": [
    {
     "name": "stdout",
     "output_type": "stream",
     "text": [
      "첫번째 숫자는?8\n",
      "두번째 숫자는?2\n"
     ]
    }
   ],
   "source": [
    "first = input('첫번째 숫자는?')\n",
    "second = input('두번째 숫자는?')"
   ]
  },
  {
   "cell_type": "code",
   "execution_count": 32,
   "id": "58c4eae4",
   "metadata": {},
   "outputs": [
    {
     "name": "stdout",
     "output_type": "stream",
     "text": [
      "8 2\n"
     ]
    }
   ],
   "source": [
    "print(first, second)"
   ]
  },
  {
   "cell_type": "code",
   "execution_count": 34,
   "id": "32036737",
   "metadata": {},
   "outputs": [
    {
     "name": "stdout",
     "output_type": "stream",
     "text": [
      "두수의 합은 82\n"
     ]
    }
   ],
   "source": [
    "print('두수의 합은', first+second)"
   ]
  },
  {
   "cell_type": "code",
   "execution_count": 36,
   "id": "165fe004",
   "metadata": {},
   "outputs": [
    {
     "name": "stdout",
     "output_type": "stream",
     "text": [
      "첫번째 숫자는?8\n",
      "두번째 숫자는?2\n"
     ]
    }
   ],
   "source": [
    "first = int(input('첫번째 숫자는?'))\n",
    "second = int(input('두번째 숫자는?'))"
   ]
  },
  {
   "cell_type": "code",
   "execution_count": 37,
   "id": "7a2104b0",
   "metadata": {},
   "outputs": [
    {
     "name": "stdout",
     "output_type": "stream",
     "text": [
      "두수의 합은 10\n"
     ]
    }
   ],
   "source": [
    "print('두수의 합은', first+second)"
   ]
  },
  {
   "cell_type": "code",
   "execution_count": 47,
   "id": "bf6ba14e",
   "metadata": {},
   "outputs": [
    {
     "name": "stdout",
     "output_type": "stream",
     "text": [
      "first, 8, second, 2\n",
      "Hello Python\n"
     ]
    }
   ],
   "source": [
    "print('first', first, 'second', second, sep=', ')\n",
    "print('Hello', 'Python', end='\\n')"
   ]
  },
  {
   "cell_type": "markdown",
   "id": "a4f99828",
   "metadata": {},
   "source": [
    "# 3절. 기본 자료형\n",
    "- 자료형 : 변수가 가져야 할 값의 형식. 자료형의 따라 값의 크기와 저장 방식 달라짐(메모리 크기)\n",
    "- 자료형에 따라 수행할 수 있는 명령어들이 달라짐\n",
    "    \n",
    "    - 숫자 : int, float(소수점 4.0), complex(허수부 j) \n",
    "    - 문자 : str(\"\", '')\n",
    "    - 논리 : bool(True/False)\n",
    "    \n",
    "  ## 3.1 숫자형"
   ]
  },
  {
   "cell_type": "code",
   "execution_count": 48,
   "id": "6ca197dd",
   "metadata": {},
   "outputs": [
    {
     "name": "stdout",
     "output_type": "stream",
     "text": [
      "9223372036854775807\n"
     ]
    }
   ],
   "source": [
    "import sys\n",
    "print(sys.maxsize) # 정수의 최대값 : 2**63 - 1"
   ]
  },
  {
   "cell_type": "code",
   "execution_count": 49,
   "id": "000f3a96",
   "metadata": {},
   "outputs": [
    {
     "data": {
      "text/plain": [
       "9223372036854775807"
      ]
     },
     "execution_count": 49,
     "metadata": {},
     "output_type": "execute_result"
    }
   ],
   "source": [
    "2**63 - 1"
   ]
  },
  {
   "cell_type": "code",
   "execution_count": 50,
   "id": "160e3c7f",
   "metadata": {},
   "outputs": [
    {
     "name": "stdout",
     "output_type": "stream",
     "text": [
      "10000009223372036854775807\n",
      "<class 'int'>\n"
     ]
    }
   ],
   "source": [
    "i = sys.maxsize + 10000000000000000000000000\n",
    "print(i)\n",
    "print(type(i))"
   ]
  },
  {
   "cell_type": "code",
   "execution_count": 73,
   "id": "182d0bfd",
   "metadata": {},
   "outputs": [
    {
     "name": "stdout",
     "output_type": "stream",
     "text": [
      "1.2e-20\n",
      "1.2e+20\n"
     ]
    }
   ],
   "source": [
    "# f = 0.0000000000000000000012\n",
    "f = 1.2e-20 # 지수형 1.2*10의 -20승\n",
    "print(f)\n",
    "b = 1.2e20 # 지수형 1.2의 10의 20승\n",
    "print(b)"
   ]
  },
  {
   "cell_type": "code",
   "execution_count": 58,
   "id": "fd4a7689",
   "metadata": {},
   "outputs": [
    {
     "name": "stdout",
     "output_type": "stream",
     "text": [
      "f = 1.5\n"
     ]
    }
   ],
   "source": [
    "# 파이썬에서는 /의 결과는 무조건 실수\n",
    "f = 3/2\n",
    "print('f =', f)"
   ]
  },
  {
   "cell_type": "code",
   "execution_count": 61,
   "id": "89d80f60",
   "metadata": {},
   "outputs": [
    {
     "name": "stdout",
     "output_type": "stream",
     "text": [
      "f = 1\n",
      "f = 1\n"
     ]
    }
   ],
   "source": [
    "# 자바나 c, c++처럼 정수/정수 결과를 정수로 나타게 하는 방법\n",
    "f = int(3/2) # int(): int로 형변환(내림)\n",
    "print('f =', f)\n",
    "f = 3//2 # 몫연산자(슬래쉬 2개)\n",
    "print('f =', f)"
   ]
  },
  {
   "cell_type": "markdown",
   "id": "d58f8f6d",
   "metadata": {},
   "source": [
    " ## 3.2 문자형\n",
    " 겹따옴표(\"~\")나 홑따옴표('-')이용"
   ]
  },
  {
   "cell_type": "code",
   "execution_count": 68,
   "id": "5671ef90",
   "metadata": {},
   "outputs": [
    {
     "name": "stdout",
     "output_type": "stream",
     "text": [
      "홍길동'짱'\n",
      "서울시 관악구 \"신림\"동\n"
     ]
    }
   ],
   "source": [
    "#name = '홍길동\\'짱\\''       # 홍길동'짱'\n",
    "name = \"홍길동'짱'\"\n",
    "address = '서울시 관악구 \"신림\"동' #서울시 관악구 \"신림\" 동\n",
    "print(name, address, sep='\\n')"
   ]
  },
  {
   "cell_type": "code",
   "execution_count": 67,
   "id": "5ba4102c",
   "metadata": {},
   "outputs": [
    {
     "name": "stdout",
     "output_type": "stream",
     "text": [
      "여러줄\t짜리 내용을 저장\n",
      "줄바꿈 문자를 쓰면 됨 \n",
      "줄바꿈\n"
     ]
    }
   ],
   "source": [
    "# escape 문자(탈출문자) : \\n \\t\n",
    "test = '여러줄\\t짜리 내용을 저장\\n줄바꿈 문자를 쓰면 됨 \\n줄바꿈'\n",
    "print(test)"
   ]
  },
  {
   "cell_type": "code",
   "execution_count": 70,
   "id": "ec2506eb",
   "metadata": {},
   "outputs": [
    {
     "name": "stdout",
     "output_type": "stream",
     "text": [
      "여러줄\t짜리 내용을 저장\n",
      "줄바꿈 문자를 쓰면 됨\n",
      "줄바꿈\n"
     ]
    }
   ],
   "source": [
    "test = '''여러줄\\t짜리 내용을 저장\n",
    "줄바꿈 문자를 쓰면 됨\n",
    "줄바꿈'''\n",
    "print(test)"
   ]
  },
  {
   "cell_type": "markdown",
   "id": "7e14fc44",
   "metadata": {},
   "source": [
    " ### ※ 문자열 연산 (+,*)"
   ]
  },
  {
   "cell_type": "code",
   "execution_count": 76,
   "id": "7c0ace4e",
   "metadata": {},
   "outputs": [
    {
     "name": "stdout",
     "output_type": "stream",
     "text": [
      "홍길동동해번쩍\n",
      "홍길동 동해번쩍\n"
     ]
    }
   ],
   "source": [
    "\"\"\"\n",
    "    여러 줄 주석 용도\n",
    "    2025.09.12 문자열 연산 by 아무개\n",
    "\"\"\"\n",
    "name1 = \"홍길동\"\n",
    "name2 = \"동해번쩍\"\n",
    "print(name1 + name2)\n",
    "print(name1, name2)"
   ]
  },
  {
   "cell_type": "code",
   "execution_count": 77,
   "id": "c682c7da",
   "metadata": {},
   "outputs": [
    {
     "name": "stdout",
     "output_type": "stream",
     "text": [
      "홍길동홍길동홍길동\n"
     ]
    }
   ],
   "source": [
    "print(name1 * 3)"
   ]
  },
  {
   "cell_type": "markdown",
   "id": "637451b9",
   "metadata": {},
   "source": [
    "### ※ raw 데이터\n",
    "- 용도 : 정규표현식 이용, 디렉토리 경로를 표현시 이용"
   ]
  },
  {
   "cell_type": "code",
   "execution_count": 80,
   "id": "884d13ee",
   "metadata": {},
   "outputs": [
    {
     "name": "stdout",
     "output_type": "stream",
     "text": [
      "Hello\n",
      "World\n",
      "\n",
      "Hello\\nWorld\n"
     ]
    }
   ],
   "source": [
    "# raw데이터 : 데이터 처리시 이스케이프(escape) 문자(\\n, \\t, \\', \\\")를 그대로 저장\n",
    "print('Hello\\nWorld')\n",
    "print()\n",
    "print(r'Hello\\nWorld')"
   ]
  },
  {
   "cell_type": "markdown",
   "id": "043d6c67",
   "metadata": {},
   "source": [
    " 정규표현식(regex)\n",
    "\n",
    "    1. 참조 : https://ko.wikipedia.org/wiki/%EC%A0%95%EA%B7%9C_%ED%91%9C%ED%98%84%EC%8B%9D 위키백과\n",
    "    2. 간략문법\n",
    "        \\d (숫자와 매치. [0-9]와 동일)\n",
    "        \\D (숫자가 아닌 것)\n",
    "        \\w (영문자나 숫자 [a-zA-Z0-9]와 동일)\n",
    "        \\W (영문자나 숫자가 아닌 문자)\n",
    "        . (문자)\n",
    "        \\. (.)\n",
    "        \\- (-)\n",
    "        {2,} (2번 이상 반복)\n",
    "        {2, 4} (2~4회 반복)                \\d{2,3}[\\-]?\\d{3,4}\n",
    "        ?      (0번이나 1번 의미)\n",
    "        +      (1번 이상 반복)\n",
    "        *      (0번 이상 반복)\n",
    "    3. 정규표현식 연습장 https://regexr.com/\n",
    "        ex1. 전화번호 : 02 888 7777 / 028887777 / 010-9999-9999 / 010.9999.9999\n",
    "                       02)999-9999\n",
    "                       => 0\\d{1,2}[ \\-\\.)]?\\d{3,4}[ \\-\\.]?\\d{4}\n",
    "        ex2. 이메일 : abc12@naver.com / abc12@sns.co.kr\n",
    "                       => \\w+@\\w+(\\.\\w+){1,2}      \n",
    "        ex3. 주민번호 : 981212-1052525 011313-3052525 010212-1052525\n",
    "                       => (\\d{2}0[1-9][0-3]\\d\\-[0-4]\\d{6})|(\\d{2}1[0-2][0-3]\\d\\-[1-4]\\d{6})\n",
    "                       => \\d{2}(0[1-9]|1[0-2])(0[1-9]|[12]\\d|30|31)-[1-4]\\d{6}\n",
    "    4. 소스 구현"
   ]
  },
  {
   "cell_type": "code",
   "execution_count": 2,
   "id": "9a184ca1",
   "metadata": {},
   "outputs": [
    {
     "name": "stdout",
     "output_type": "stream",
     "text": [
      "이름:홍길동, 주소:서울, 전화:02-888-8888, 핸드폰:010-9999-9999, 특징:동해번쩍 서해번쩍형액형:Bㅋㅋ ㅋㅋzz\n"
     ]
    }
   ],
   "source": [
    "import re\n",
    "data = \"이름:홍길동, 주소:서울, 전화:02-888-8888, \\\n",
    "핸드폰:010-9999-9999, 특징:동해번쩍 서해번쩍\\\n",
    "형액형:Bㅋㅋ ㅋㅋzz\"\n",
    "print(data)"
   ]
  },
  {
   "cell_type": "code",
   "execution_count": 85,
   "id": "40d69d49",
   "metadata": {},
   "outputs": [
    {
     "name": "stdout",
     "output_type": "stream",
     "text": [
      "['02-888-8888', '010-9999-9999']\n"
     ]
    }
   ],
   "source": [
    "# 정규표현식 처리에서는 raw데이터 처리를 하지 않아도 실행은 되나\n",
    "# 실수를 줄이고, 가독성을 높이는 요도로 raw 데이터 처리를 사용\n",
    "tel_pattern = r\"0\\d{1,2}[ \\-\\.)]?\\d{3,4}[ \\-\\.]?\\d{4}\"\n",
    "tels = re.findall(tel_pattern, data) # 해당 패턴을 다 찾아 줌. 없으면 빈 list\n",
    "print(tels)"
   ]
  },
  {
   "cell_type": "code",
   "execution_count": 87,
   "id": "a2b04a73",
   "metadata": {},
   "outputs": [
    {
     "name": "stdout",
     "output_type": "stream",
     "text": [
      "[]\n"
     ]
    }
   ],
   "source": [
    "email_pattern = r\"\\w+@\\w+(\\.\\w+){1,2}\"\n",
    "emails = re.findall(email_pattern, data)\n",
    "print(emails)\n",
    "#email 정보는 없기 때문에 값이 없음. 값이 없을 때 error로 나타나는 함수도 존재함"
   ]
  },
  {
   "cell_type": "code",
   "execution_count": 88,
   "id": "24d34c15",
   "metadata": {},
   "outputs": [
    {
     "name": "stdout",
     "output_type": "stream",
     "text": [
      "<re.Match object; span=(18, 29), match='02-888-8888'>\n"
     ]
    }
   ],
   "source": [
    "# 정규표현식 패턴과 처음 match되는 것을 찾아줘\n",
    "firstTel = re.search(tel_pattern, data)\n",
    "print(firstTel)"
   ]
  },
  {
   "cell_type": "code",
   "execution_count": 90,
   "id": "6ca8b948",
   "metadata": {},
   "outputs": [
    {
     "name": "stdout",
     "output_type": "stream",
     "text": [
      "02-888-8888\n",
      "02-888-8888\n"
     ]
    }
   ],
   "source": [
    "print(data[18:29]) # 문자열 슬라이싱\n",
    "print(firstTel.group(0))"
   ]
  },
  {
   "cell_type": "code",
   "execution_count": 91,
   "id": "6beffaae",
   "metadata": {},
   "outputs": [
    {
     "data": {
      "text/plain": [
       "<re.Match object; span=(18, 29), match='02-888-8888'>"
      ]
     },
     "execution_count": 91,
     "metadata": {},
     "output_type": "execute_result"
    }
   ],
   "source": [
    "tel_pattern = r\"(\\d{2,3})-(\\d{3,4})-(\\d{4})\"\n",
    "firstPhone = re.search(tel_pattern, data)\n",
    "firstPhone"
   ]
  },
  {
   "cell_type": "code",
   "execution_count": 92,
   "id": "68773ce1",
   "metadata": {},
   "outputs": [
    {
     "name": "stdout",
     "output_type": "stream",
     "text": [
      "전체 전화번호 : 02-888-8888\n",
      "국번 : 02\n",
      "중간번호 : 888\n",
      "끝번호 : 8888\n"
     ]
    }
   ],
   "source": [
    "print('전체 전화번호 :', firstPhone.group(0))\n",
    "print('국번 :', firstPhone.group(1))\n",
    "print('중간번호 :', firstPhone.group(2))\n",
    "print('끝번호 :', firstPhone.group(3))"
   ]
  },
  {
   "cell_type": "code",
   "execution_count": 94,
   "id": "4ea80a92",
   "metadata": {},
   "outputs": [
    {
     "data": {
      "text/plain": [
       "'이름 홍길동  주소 서울  전화 02 888 8888  핸드폰 010 9999 9999  특징 동해번쩍 서해번쩍형액형 B       '"
      ]
     },
     "execution_count": 94,
     "metadata": {},
     "output_type": "execute_result"
    }
   ],
   "source": [
    "# 특정한 데이터 없애기 (sub)\n",
    "re.sub(r\"[^가-힣0-9A-Z\\s]\", ' ', data)"
   ]
  },
  {
   "cell_type": "code",
   "execution_count": 3,
   "id": "c1c3293f",
   "metadata": {},
   "outputs": [
    {
     "data": {
      "text/plain": [
       "'이름:홍길동, 주소:서울, 전화: , 핸드폰: , 특징:동해번쩍 서해번쩍형액형:Bㅋㅋ ㅋㅋzz'"
      ]
     },
     "execution_count": 3,
     "metadata": {},
     "output_type": "execute_result"
    }
   ],
   "source": [
    "# data에서 전화번호 없애기\n",
    "tel_pattern = r\"0\\d{1,2}[ \\-\\.)]?\\d{3,4}[ \\-\\.]?\\d{4}\"\n",
    "re.sub(tel_pattern, ' ', data)"
   ]
  },
  {
   "cell_type": "code",
   "execution_count": null,
   "id": "0beace08",
   "metadata": {},
   "outputs": [],
   "source": [
    "# 파일 경로 (\\\\ 또는 /를 사용해도 경로로 인식할 수 있지만 r이 편함)\n",
    "file_path = r\"C:\\AIX\\source\\01_Python\\data\\ch02.txt\"\n",
    "file_path = \"C:\\\\AIX\\\\source\\\\01_Python\\\\data\\\\ch02.txt\"\n",
    "file_path = \"C:/AIX/source/01_Python/data/ch02.txt\""
   ]
  },
  {
   "cell_type": "code",
   "execution_count": 4,
   "id": "dc3aa598",
   "metadata": {},
   "outputs": [],
   "source": [
    "# 파일 경로 (\\\\ 또는 /를 사용해도 경로로 인식할 수 있지만 r이 편함)\n",
    "file_path = r\"C:\\AIX\\source\\01_Python\\data\\ch02.txt\""
   ]
  },
  {
   "cell_type": "code",
   "execution_count": 8,
   "id": "2397af3d",
   "metadata": {},
   "outputs": [
    {
     "name": "stdout",
     "output_type": "stream",
     "text": [
      "Hello, Python.\n",
      "Hello, World\n"
     ]
    }
   ],
   "source": [
    "file_stream = open(file_path, \"w\")\n",
    "print(\"Hello, Python.\", \"Hello, World\", sep=\"\\n\") # 화면 출력\n",
    "print(\"Hello, Python.\", \"Hello, World\", sep=\"\\n\", file=file_stream) # 파일 출력\n",
    "file_stream.close() # close 하지 않으면 저장 안 됨"
   ]
  },
  {
   "cell_type": "markdown",
   "id": "f38ee813",
   "metadata": {},
   "source": [
    "### ※ 문자열 인덱싱"
   ]
  },
  {
   "cell_type": "code",
   "execution_count": 9,
   "id": "814e57a9",
   "metadata": {},
   "outputs": [
    {
     "data": {
      "text/plain": [
       "'0123456789'"
      ]
     },
     "execution_count": 9,
     "metadata": {},
     "output_type": "execute_result"
    }
   ],
   "source": [
    "str_ = '0123456789'\n",
    "str_"
   ]
  },
  {
   "cell_type": "code",
   "execution_count": 11,
   "id": "1a129d28",
   "metadata": {},
   "outputs": [
    {
     "data": {
      "text/plain": [
       "('0', '2', '9', '7')"
      ]
     },
     "execution_count": 11,
     "metadata": {},
     "output_type": "execute_result"
    }
   ],
   "source": [
    "str_[0], str_[2], str_[-1], str_[-3] # 음수인덱싱은 맨 마지막이 -1 (0이 아님)"
   ]
  },
  {
   "cell_type": "code",
   "execution_count": 12,
   "id": "eeb876a8",
   "metadata": {},
   "outputs": [
    {
     "ename": "IndexError",
     "evalue": "string index out of range",
     "output_type": "error",
     "traceback": [
      "\u001b[1;31m---------------------------------------------------------------------------\u001b[0m",
      "\u001b[1;31mIndexError\u001b[0m                                Traceback (most recent call last)",
      "Cell \u001b[1;32mIn[12], line 1\u001b[0m\n\u001b[1;32m----> 1\u001b[0m \u001b[43mstr_\u001b[49m\u001b[43m[\u001b[49m\u001b[38;5;241;43m10\u001b[39;49m\u001b[43m]\u001b[49m\n",
      "\u001b[1;31mIndexError\u001b[0m: string index out of range"
     ]
    }
   ],
   "source": [
    "str_[10] # 없는 인덱싱은 에러 발생함"
   ]
  },
  {
   "cell_type": "markdown",
   "id": "7bbb1fbd",
   "metadata": {},
   "source": [
    "### ※ 문자열 슬라이싱"
   ]
  },
  {
   "cell_type": "code",
   "execution_count": null,
   "id": "e115f359",
   "metadata": {},
   "outputs": [],
   "source": [
    "'''\n",
    "문자열변수[from:to] : from부터 to 앞까지 추출\n",
    "문자열변수[from:to:step] : from부터 to앞까지 step씩 전진하면서 추출\n",
    "    from 생략시 처음부터 시작한다고 생각\n",
    "    to 생략시 끝까지 한다고 생각\n",
    "    step 생략시 1씩 증가로 생각\n",
    "'''"
   ]
  },
  {
   "cell_type": "code",
   "execution_count": 15,
   "id": "e2c7a6a6",
   "metadata": {},
   "outputs": [
    {
     "data": {
      "text/plain": [
       "('012', '012')"
      ]
     },
     "execution_count": 15,
     "metadata": {},
     "output_type": "execute_result"
    }
   ],
   "source": [
    "str_[0:3], str_[:3] # from 생략시 처음부터"
   ]
  },
  {
   "cell_type": "code",
   "execution_count": 19,
   "id": "33fd18cc",
   "metadata": {},
   "outputs": [
    {
     "data": {
      "text/plain": [
       "'56789'"
      ]
     },
     "execution_count": 19,
     "metadata": {},
     "output_type": "execute_result"
    }
   ],
   "source": [
    "str_[-5:]"
   ]
  },
  {
   "cell_type": "code",
   "execution_count": 18,
   "id": "ced102ad",
   "metadata": {},
   "outputs": [
    {
     "data": {
      "text/plain": [
       "('56789', '56789')"
      ]
     },
     "execution_count": 18,
     "metadata": {},
     "output_type": "execute_result"
    }
   ],
   "source": [
    "str_[5:10], str_[5:] # to 생략시 끝까지"
   ]
  },
  {
   "cell_type": "code",
   "execution_count": 20,
   "id": "7a6e2bf4",
   "metadata": {},
   "outputs": [
    {
     "data": {
      "text/plain": [
       "'5678'"
      ]
     },
     "execution_count": 20,
     "metadata": {},
     "output_type": "execute_result"
    }
   ],
   "source": [
    "str_[-5:-1] # -5번째부터 -1번째 앞까지 (끝까지가 아님. 끝까지 하고 싶을땐 to 생략)"
   ]
  },
  {
   "cell_type": "code",
   "execution_count": 13,
   "id": "b12cf3e1",
   "metadata": {},
   "outputs": [
    {
     "data": {
      "text/plain": [
       "'2345'"
      ]
     },
     "execution_count": 13,
     "metadata": {},
     "output_type": "execute_result"
    }
   ],
   "source": [
    "str_[2:6]"
   ]
  },
  {
   "cell_type": "code",
   "execution_count": 14,
   "id": "e357203c",
   "metadata": {},
   "outputs": [
    {
     "data": {
      "text/plain": [
       "'02468'"
      ]
     },
     "execution_count": 14,
     "metadata": {},
     "output_type": "execute_result"
    }
   ],
   "source": [
    "str_[0:10:2]"
   ]
  },
  {
   "cell_type": "code",
   "execution_count": 21,
   "id": "962494ed",
   "metadata": {},
   "outputs": [
    {
     "data": {
      "text/plain": [
       "'987654321'"
      ]
     },
     "execution_count": 21,
     "metadata": {},
     "output_type": "execute_result"
    }
   ],
   "source": [
    "str_[9:0:-1] # 9번째부터 0번째전까지 -1씩 전진하면서 추출"
   ]
  },
  {
   "cell_type": "code",
   "execution_count": 26,
   "id": "f8f6c4f0",
   "metadata": {},
   "outputs": [
    {
     "name": "stdout",
     "output_type": "stream",
     "text": [
      "9876543210\n",
      "9876543210\n",
      "9876543210\n"
     ]
    }
   ],
   "source": [
    "# quiz : 마지막글씨부터 처음글씨까지 거꾸로 출력해주세요 -> 9876543210\n",
    "str_[9::-1] # 내가 쓴 정답\n",
    "\n",
    "# 모범답안\n",
    "print(str_[::-1])\n",
    "print(str_[9::-1])\n",
    "print(str_[-1::-1])"
   ]
  },
  {
   "cell_type": "markdown",
   "id": "f7d512d1",
   "metadata": {},
   "source": [
    "## 3.3 논리형(True/False)"
   ]
  },
  {
   "cell_type": "code",
   "execution_count": 35,
   "id": "66923ad8",
   "metadata": {},
   "outputs": [
    {
     "name": "stdout",
     "output_type": "stream",
     "text": [
      "True\n",
      "<class 'bool'>\n",
      "True\n"
     ]
    }
   ],
   "source": [
    "a = 10>5\n",
    "print(a)\n",
    "print(type(a))\n",
    "print(isinstance(a, bool))"
   ]
  },
  {
   "cell_type": "code",
   "execution_count": 36,
   "id": "a3f2a636",
   "metadata": {},
   "outputs": [
    {
     "data": {
      "text/plain": [
       "(1, 0)"
      ]
     },
     "execution_count": 36,
     "metadata": {},
     "output_type": "execute_result"
    }
   ],
   "source": [
    "int(True), int(False)"
   ]
  },
  {
   "cell_type": "code",
   "execution_count": 37,
   "id": "6f95771b",
   "metadata": {},
   "outputs": [
    {
     "data": {
      "text/plain": [
       "(True, False)"
      ]
     },
     "execution_count": 37,
     "metadata": {},
     "output_type": "execute_result"
    }
   ],
   "source": [
    "bool(1), bool(0)"
   ]
  },
  {
   "cell_type": "code",
   "execution_count": 39,
   "id": "012835b4",
   "metadata": {},
   "outputs": [
    {
     "data": {
      "text/plain": [
       "(True, False, False, True, True)"
      ]
     },
     "execution_count": 39,
     "metadata": {},
     "output_type": "execute_result"
    }
   ],
   "source": [
    "bool(1000), bool(0), bool(), bool(\"러닝\"), bool(\" \")"
   ]
  },
  {
   "cell_type": "code",
   "execution_count": null,
   "id": "7bec1079",
   "metadata": {},
   "outputs": [],
   "source": [
    "# False로 간주 되는 것 : 0, \"\"(빈 스트링), [](빈 리스트), ()(빈 튜플), {}(빈 딕셔너리), None\n",
    "# False로 판별되는 경우를 제외하고는 모두 True (소숫점, 문자, 공백(스페이스) 포함)"
   ]
  },
  {
   "cell_type": "code",
   "execution_count": 47,
   "id": "1004fa90",
   "metadata": {},
   "outputs": [
    {
     "name": "stdout",
     "output_type": "stream",
     "text": [
      "False\n"
     ]
    }
   ],
   "source": [
    "if None:\n",
    "    print(\"True\")\n",
    "else :\n",
    "    print('False')"
   ]
  },
  {
   "cell_type": "code",
   "execution_count": 4,
   "id": "3c4bcdcb",
   "metadata": {},
   "outputs": [
    {
     "name": "stdout",
     "output_type": "stream",
     "text": [
      "이름은? ㅁㄴㅇㄹ\n",
      "당신의 이름은 ㅁㄴㅇㄹ\n"
     ]
    }
   ],
   "source": [
    "name = input(\"이름은? \")\n",
    "if name: # name이 빈스트링이 아니면\n",
    "    print('당신의 이름은', name)\n",
    "else:\n",
    "    print('이름을 입력 안 하셨군요')"
   ]
  },
  {
   "cell_type": "markdown",
   "id": "869b000d",
   "metadata": {},
   "source": [
    "## 3.4 자료형 확인 및 형변환 함수\n",
    "- type(변수)\n",
    "- isinstance(변수, 타입) : 변수가 해당 타입인지 여부\n",
    "- float() : 실수형으로 변환\n",
    "- int()   : 정수형으로 변환\n",
    "- str()   : 문자형으로 변환\n",
    "- bool()  : 논리형으로 변환 하는 함수"
   ]
  },
  {
   "cell_type": "code",
   "execution_count": 5,
   "id": "f1d7d286",
   "metadata": {},
   "outputs": [
    {
     "data": {
      "text/plain": [
       "(4.0, 4.1, 4, 4, '4', '4.9')"
      ]
     },
     "execution_count": 5,
     "metadata": {},
     "output_type": "execute_result"
    }
   ],
   "source": [
    "float(4), float(\"4.1\"), int(4.9), int(\"4\"), str(4), str(4.9)"
   ]
  },
  {
   "cell_type": "code",
   "execution_count": 16,
   "id": "5662ce55",
   "metadata": {},
   "outputs": [],
   "source": [
    "# 에러나는 경우들\n",
    " ## int(\"\"), int(\" \"), int(none), int(\"123.9\"), int(\"5,000\")\n",
    " ## float를 사용해도 동일하게 에러 발생함(소수점 제외)"
   ]
  },
  {
   "cell_type": "markdown",
   "id": "4d7f15e1",
   "metadata": {},
   "source": [
    "# 4절. 포맷팅\n",
    "- 포맷팅이란 출력할 문자, 숫자, 날짜 형식을 지정하는 것\n",
    "\n",
    "## 4.1 문자열에 형식 지정"
   ]
  },
  {
   "cell_type": "code",
   "execution_count": 22,
   "id": "2972446a",
   "metadata": {},
   "outputs": [
    {
     "name": "stdout",
     "output_type": "stream",
     "text": [
      "홍길동님의 나이는 30살입니다.\n",
      "홍길동님의 나이는 30살입니다.\n"
     ]
    }
   ],
   "source": [
    "name = \"홍길동\"\n",
    "age = 30\n",
    "## print(name + \"님의 나이는\" + age + \"살입니다.\") : 잘못 됨\n",
    "print(name + \"님의 나이는 \" + str(age) + \"살입니다.\")\n",
    "print(name, \"님의 나이는 \", age, \"살입니다.\", sep='')"
   ]
  },
  {
   "cell_type": "code",
   "execution_count": 24,
   "id": "90f102fe",
   "metadata": {},
   "outputs": [
    {
     "name": "stdout",
     "output_type": "stream",
     "text": [
      "홍길동님의 나이는 30살입니다\n",
      "홍길동님의 나이는 30살입니다\n"
     ]
    }
   ],
   "source": [
    "# %s:문자, %d:10진수, %f:실수\n",
    "print(\"%s님의 나이는 %d살입니다\"%(name, age)) # 가장 안쓰는 방식 (옛날 구식 방식)\n",
    "print(f\"{name}님의 나이는 {age}살입니다\") # 많이 사용함"
   ]
  },
  {
   "cell_type": "code",
   "execution_count": 30,
   "id": "c50bf276",
   "metadata": {},
   "outputs": [
    {
     "name": "stdout",
     "output_type": "stream",
     "text": [
      "홍길동님의 나이는 30살입니다.\n",
      "홍길동님의 나이는 30살입니다.\n",
      "홍길동님의 나이는 30살입니다.\n",
      "  홍길동님의 나이는 30$살입니다.\n"
     ]
    }
   ],
   "source": [
    "print(\"{}님의 나이는 {}살입니다.\".format(name, age)) # 가장 많이 사용함\n",
    "print(\"{0}님의 나이는 {1}살입니다.\".format(name, age))\n",
    "print(\"{1}님의 나이는 {0}살입니다.\".format(age, name))\n",
    "print(\"{1:>5s}님의 나이는 {0:$<3d}살입니다.\".format(age, name))"
   ]
  },
  {
   "cell_type": "markdown",
   "id": "f4eadcfa",
   "metadata": {},
   "source": [
    "## 4.2 format() 문법\n",
    "- \"{}\", \"{[인덱스]:[공백대체문자][정렬방식][자릿수][타입]}\",'{}', format(변수명)\n",
    "    * 인덱스 : format 함수안의 매개변수 순서\n",
    "    * 정렬방식 : <(왼쪽정렬), >(오른쪽정렬), ^(가운데정렬)\n",
    "    * 정수자릿수 : 출력할 자릿수\n",
    "    * 실수자릿수 : 전체출력될 자리수.변수중에 출력할 자리수 ex)10.2\n",
    "    * 타입 : d(10진수), o(8진수), x(16진수), b(2진수), f(실수), s(문자)\n",
    "    * 공백대체문자는 정렬방식을 명시하여 함"
   ]
  },
  {
   "cell_type": "code",
   "execution_count": 32,
   "id": "ca9149ec",
   "metadata": {},
   "outputs": [
    {
     "name": "stdout",
     "output_type": "stream",
     "text": [
      "[12345] [     12345] [12345]\n",
      "[Hello] [Hello     ] [Hello]\n"
     ]
    }
   ],
   "source": [
    "# 숫자의 경우 오른쪽 정렬(기본)\n",
    "# 문자의 경우 왼쪽 정렬(기본)\n",
    "# 변수보다 작은 자리수를 지정하면 자릿수 무시되고 다 출력(정수자릿수)\n",
    "\n",
    "a = 12345\n",
    "s = 'Hello'\n",
    "# print(\"[{}] [{:10}] [{:3}]\".format(a)) # 인덱스가 3개가 필요한데 a가 하나 뿐이라 에러\n",
    "print(\"[{0}] [{0:10}] [{0:3}]\".format(a)) # 정수 출력\n",
    "print(\"[{0}] [{0:10}] [{0:3}]\".format(s)) # 문자 출력"
   ]
  },
  {
   "cell_type": "code",
   "execution_count": 35,
   "id": "50a0f230",
   "metadata": {},
   "outputs": [
    {
     "name": "stdout",
     "output_type": "stream",
     "text": [
      "[10  ] [ 20 ] [   3]\n",
      "[  10] [  20] [   3]\n"
     ]
    }
   ],
   "source": [
    "# 정렬방식 : <, ^, >\n",
    "a, b, c = 10, 20, 3\n",
    "print(\"[{:<4}] [{:^4}] [{:>4}]\".format(a, b, c))\n",
    "print(\"[{:4}] [{:4}] [{:4}]\".format(a, b, c)) # 숫자는 오른쪽 정열(기본)"
   ]
  },
  {
   "cell_type": "code",
   "execution_count": 47,
   "id": "c8559572",
   "metadata": {},
   "outputs": [
    {
     "name": "stdout",
     "output_type": "stream",
     "text": [
      "[$$$$10] [ 12.57]\n",
      "[$$$$10] [ 12.50]\n",
      "[$10.00] [ 12.57]\n",
      "[$$$$10] [ 12.57] [____He]\n"
     ]
    }
   ],
   "source": [
    "# 실수 자릿수 ex)10.2f:전체10자리 소수점2자리 / 6.2:전체6자리중2자리 출력\n",
    "a = 10\n",
    "f = 12.569\n",
    "g = 12.5\n",
    "s = \"Hello\"\n",
    "print(\"[{:$>6}] [{:6.2f}]\".format(a, f)) # 소숫점 2자리를 표현하기위해 반올림 됐음\n",
    "print(\"[{:$>6}] [{:6.2f}]\".format(a, g)) # 소숫점 2자리를 표현하기위해 .50까지 표시 됨\n",
    "print(\"[{:$>6.2f}] [{:6.2f}]\".format(a, f))\n",
    "print(\"[{:$>6}] [{:6.2f}] [{:_>6.2}]\".format(a, f, s))\n",
    "#공백대체문자를 쓸 경우 반드시 정렬방식(>, ^, <)을 표현해야 한다."
   ]
  },
  {
   "cell_type": "code",
   "execution_count": 53,
   "id": "e90ddcb9",
   "metadata": {},
   "outputs": [
    {
     "name": "stdout",
     "output_type": "stream",
     "text": [
      "[      +123], [      -123], [       123]\n",
      "[       123], [-      123], [       123]\n",
      "[+      123], [-      123], [       123]\n"
     ]
    }
   ],
   "source": [
    "#자리수 앞에 +를 붙이면 양수의 경우도 부호출력 (부호도 자리수로 포함됨)\n",
    "a, b = 123, -123\n",
    "print(\"[{:+10}], [{:+10}], [{:10}]\".format(a, b, a))\n",
    "print(\"[{:=10}], [{:=10}], [{:10}]\".format(a, b, a)) # =을 사용하면 양수는 부호 사라지고 음수 부호는 앞으로 나타남\n",
    "print(\"[{:=+10}], [{:=+10}], [{:10}]\".format(a, b, a)) # 부호를 앞으로 가져오면서 양수/음수 모두 나타남"
   ]
  },
  {
   "cell_type": "code",
   "execution_count": 64,
   "id": "86013687",
   "metadata": {},
   "outputs": [
    {
     "name": "stdout",
     "output_type": "stream",
     "text": [
      "10진수 [  15]\n",
      " 8진수 [  17]\n",
      "16진수 [   f]\n",
      " 2진수 [1111]\n",
      " 2진수 1111\n"
     ]
    }
   ],
   "source": [
    "# 10진수, 8진수, 16진수, 2진수 출력\n",
    "a = 15\n",
    "print('10진수 [{:4d}]'.format(a))\n",
    "print(' 8진수 [{:4o}]'.format(a))\n",
    "print('16진수 [{:4x}]'.format(a))\n",
    "print(' 2진수 [{:4b}]'.format(a))\n",
    "print(' 2진수 {:4b}'.format(a))"
   ]
  },
  {
   "cell_type": "code",
   "execution_count": 73,
   "id": "ab8b10d4",
   "metadata": {},
   "outputs": [
    {
     "name": "stdout",
     "output_type": "stream",
     "text": [
      "1 [    +2.785]\n",
      "2 [    +2.785]\n",
      "3 [    +2.785]\n",
      "4 [    +2.785]\n",
      "5 [    +2.785]\n"
     ]
    }
   ],
   "source": [
    "a = 2.785\n",
    "sign = \"+\"\n",
    "width = 10\n",
    "precision = 4\n",
    "print(1,\"[{:+10.4}]\".format(a))\n",
    "print(2,\"[{:{}10.4}]\".format(a, sign))\n",
    "print(3,\"[{:{}{}.4}]\".format(a, sign, width))\n",
    "print(4,\"[{:{}{}.{}}]\".format(a, sign, width, precision)) # 가독성이 매우 떨어짐\n",
    "print(5,\"[{:{sign}{width}.{precision}}]\".format(a,\n",
    "                                             sign=sign, width=width, precision=precision))"
   ]
  },
  {
   "cell_type": "markdown",
   "id": "85278ea2",
   "metadata": {},
   "source": [
    "## 4.3 날짜출력"
   ]
  },
  {
   "cell_type": "code",
   "execution_count": 4,
   "id": "30522878",
   "metadata": {},
   "outputs": [
    {
     "data": {
      "text/plain": [
       "datetime.datetime(2025, 9, 11, 0, 0)"
      ]
     },
     "execution_count": 4,
     "metadata": {},
     "output_type": "execute_result"
    }
   ],
   "source": [
    "import datetime # datetime 모듈(파이썬 프로그램 파일 datetime.py) 전체를 메모리에 load 하는 의미\n",
    "from datetime import datetime # datetime모듈안의 datetime 함수만 메모리에 load 함\n",
    "thatday1 = datetime(2025, 9, 11) # 25년 9월 11일 0시0분0초\n",
    "thatday2 = datetime(2025, 9, 11, 9, 30, 0)\n",
    "thatday1\n",
    "## datetime.__file__ # 파일 경로 나타남"
   ]
  },
  {
   "cell_type": "code",
   "execution_count": 10,
   "id": "84aa9304",
   "metadata": {},
   "outputs": [
    {
     "name": "stdout",
     "output_type": "stream",
     "text": [
      "25년 09월 11일 00시 00분 00초\n",
      "25년 09월 11일 12시 00분 00초\n",
      "25년 09월 11일 AM 09시 30분 00초\n"
     ]
    }
   ],
   "source": [
    "# Y(년도4자리), y(년도2자리) m(월), d(일), p(am/pm), I(12시간), H(24시간) M(분), S(초)\n",
    "print(\"{:%y년 %m월 %d일 %H시 %M분 %S초}\".format(thatday1))\n",
    "print(\"{:%y년 %m월 %d일 %I시 %M분 %S초}\".format(thatday1))\n",
    "print(\"{:%y년 %m월 %d일 %p %I시 %M분 %S초}\".format(thatday2))"
   ]
  },
  {
   "cell_type": "code",
   "execution_count": 12,
   "id": "c0f835e3",
   "metadata": {},
   "outputs": [
    {
     "data": {
      "text/plain": [
       "'25년 09월 11일 00시 00분 00초'"
      ]
     },
     "execution_count": 12,
     "metadata": {},
     "output_type": "execute_result"
    }
   ],
   "source": [
    "thatday1.strftime(\"%y년 %m월 %d일 %H시 %M분 %S초\")"
   ]
  },
  {
   "cell_type": "code",
   "execution_count": 14,
   "id": "66691e1f",
   "metadata": {},
   "outputs": [
    {
     "data": {
      "text/plain": [
       "'25년 09월 11일 AM 09시 30분 00초'"
      ]
     },
     "execution_count": 14,
     "metadata": {},
     "output_type": "execute_result"
    }
   ],
   "source": [
    "thatday2.strftime(\"%y년 %m월 %d일 %p %I시 %M분 %S초\")"
   ]
  },
  {
   "cell_type": "code",
   "execution_count": 16,
   "id": "e5c72cfd",
   "metadata": {},
   "outputs": [
    {
     "data": {
      "text/plain": [
       "datetime.timedelta(days=4, seconds=53678, microseconds=885183)"
      ]
     },
     "execution_count": 16,
     "metadata": {},
     "output_type": "execute_result"
    }
   ],
   "source": [
    "# 현재의 날짜와 시간\n",
    "now = datetime.now() #지금 현재 시간\n",
    "now - thatday1 # 날짜형 변수끼리 연산 가능"
   ]
  },
  {
   "cell_type": "code",
   "execution_count": 21,
   "id": "3558162f",
   "metadata": {},
   "outputs": [
    {
     "name": "stdout",
     "output_type": "stream",
     "text": [
      "2025-09-15 PM 02 :54\n",
      "2025-09-15 PM 02 :54\n"
     ]
    }
   ],
   "source": [
    "# 지금(날짜와 시간 모두 포함) 원하는 스타일로 출력\n",
    "print(\"{:%Y-%m-%d %p %I :%M}\".format(now))\n",
    "print(now.strftime(\"%Y-%m-%d %p %I :%M\")) #가장 많이 사용하는 형식(방법)"
   ]
  },
  {
   "cell_type": "code",
   "execution_count": 28,
   "id": "9bcde21b",
   "metadata": {},
   "outputs": [
    {
     "data": {
      "text/plain": [
       "'2025-09-15 PM 03 :02'"
      ]
     },
     "execution_count": 28,
     "metadata": {},
     "output_type": "execute_result"
    }
   ],
   "source": [
    "# 지금(날짜와 시간 모두 포함)을 문자열로 전환하는 함수\n",
    "from time import strftime\n",
    "strftime(\"%Y-%m-%d %p %I :%M\")"
   ]
  },
  {
   "cell_type": "code",
   "execution_count": 30,
   "id": "dd9a2644",
   "metadata": {},
   "outputs": [
    {
     "name": "stdout",
     "output_type": "stream",
     "text": [
      "2025-09-15 PM 03 :03\n"
     ]
    }
   ],
   "source": [
    "print(strftime(\"%Y-%m-%d %p %I :%M\"))"
   ]
  },
  {
   "cell_type": "code",
   "execution_count": 31,
   "id": "16964d45",
   "metadata": {},
   "outputs": [
    {
     "data": {
      "text/plain": [
       "'2025-09-15 PM 03 :03'"
      ]
     },
     "execution_count": 31,
     "metadata": {},
     "output_type": "execute_result"
    }
   ],
   "source": [
    "strftime(\"%Y-%m-%d %p %I :%M\")"
   ]
  },
  {
   "cell_type": "code",
   "execution_count": null,
   "id": "5802f466",
   "metadata": {},
   "outputs": [],
   "source": []
  },
  {
   "cell_type": "code",
   "execution_count": null,
   "id": "a759db84",
   "metadata": {},
   "outputs": [],
   "source": []
  },
  {
   "cell_type": "code",
   "execution_count": null,
   "id": "930077b1",
   "metadata": {},
   "outputs": [],
   "source": []
  },
  {
   "cell_type": "code",
   "execution_count": null,
   "id": "630719bc",
   "metadata": {},
   "outputs": [],
   "source": []
  },
  {
   "cell_type": "code",
   "execution_count": null,
   "id": "11bba8d1",
   "metadata": {},
   "outputs": [],
   "source": []
  },
  {
   "cell_type": "code",
   "execution_count": null,
   "id": "47913dc0",
   "metadata": {},
   "outputs": [],
   "source": []
  },
  {
   "cell_type": "code",
   "execution_count": null,
   "id": "2195d172",
   "metadata": {},
   "outputs": [],
   "source": []
  },
  {
   "cell_type": "code",
   "execution_count": null,
   "id": "315923fb",
   "metadata": {},
   "outputs": [],
   "source": []
  },
  {
   "cell_type": "code",
   "execution_count": null,
   "id": "927c7211",
   "metadata": {},
   "outputs": [],
   "source": []
  },
  {
   "cell_type": "code",
   "execution_count": null,
   "id": "31f47916",
   "metadata": {},
   "outputs": [],
   "source": []
  },
  {
   "cell_type": "code",
   "execution_count": null,
   "id": "ec72c5a3",
   "metadata": {},
   "outputs": [],
   "source": []
  },
  {
   "cell_type": "code",
   "execution_count": null,
   "id": "ccf47589",
   "metadata": {},
   "outputs": [],
   "source": []
  },
  {
   "cell_type": "code",
   "execution_count": null,
   "id": "2a511dca",
   "metadata": {},
   "outputs": [],
   "source": []
  }
 ],
 "metadata": {
  "kernelspec": {
   "display_name": "Python 3 (ipykernel)",
   "language": "python",
   "name": "python3"
  },
  "language_info": {
   "codemirror_mode": {
    "name": "ipython",
    "version": 3
   },
   "file_extension": ".py",
   "mimetype": "text/x-python",
   "name": "python",
   "nbconvert_exporter": "python",
   "pygments_lexer": "ipython3",
   "version": "3.10.9"
  },
  "toc": {
   "base_numbering": 1,
   "nav_menu": {},
   "number_sections": false,
   "sideBar": true,
   "skip_h1_title": false,
   "title_cell": "Table of Contents",
   "title_sidebar": "Contents",
   "toc_cell": false,
   "toc_position": {
    "height": "calc(100% - 180px)",
    "left": "10px",
    "top": "150px",
    "width": "202px"
   },
   "toc_section_display": true,
   "toc_window_display": true
  }
 },
 "nbformat": 4,
 "nbformat_minor": 5
}
