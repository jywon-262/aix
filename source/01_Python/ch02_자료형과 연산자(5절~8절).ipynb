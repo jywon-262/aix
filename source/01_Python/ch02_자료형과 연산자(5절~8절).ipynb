{
 "cells": [
  {
   "cell_type": "code",
   "execution_count": 1,
   "id": "dedf998b",
   "metadata": {},
   "outputs": [
    {
     "data": {
      "text/html": [
       "\n",
       "<style>\n",
       "div.container{width:90% !important;}\n",
       "div.cell.code_cell.rendered{width:100%;}\n",
       "div.input_prompt{padding:0px;}\n",
       "div.CodeMirror {font-family:Consolas; font-size:12pt;}\n",
       "div.text_cell_render.rendered_html{font-size:12pt;}\n",
       "div.output {font-size:12pt; font-weight:bold;}\n",
       "div.input {font-family:Consolas; font-size:12pt;}\n",
       "div.prompt {min-width:70px;}\n",
       "div#toc-wrapper{padding-top:120px;}\n",
       "div.text_cell_render ul li{font-size:12pt;padding:5px;}\n",
       "table.dataframe{font-size:12px;}\n",
       "</style>\n"
      ],
      "text/plain": [
       "<IPython.core.display.HTML object>"
      ]
     },
     "metadata": {},
     "output_type": "display_data"
    }
   ],
   "source": [
    "from IPython.display import display, HTML\n",
    "display(HTML(\"\"\"\n",
    "<style>\n",
    "div.container{width:90% !important;}\n",
    "div.cell.code_cell.rendered{width:100%;}\n",
    "div.input_prompt{padding:0px;}\n",
    "div.CodeMirror {font-family:Consolas; font-size:12pt;}\n",
    "div.text_cell_render.rendered_html{font-size:12pt;}\n",
    "div.output {font-size:12pt; font-weight:bold;}\n",
    "div.input {font-family:Consolas; font-size:12pt;}\n",
    "div.prompt {min-width:70px;}\n",
    "div#toc-wrapper{padding-top:120px;}\n",
    "div.text_cell_render ul li{font-size:12pt;padding:5px;}\n",
    "table.dataframe{font-size:12px;}\n",
    "</style>\n",
    "\"\"\"))"
   ]
  },
  {
   "cell_type": "markdown",
   "id": "40a27952",
   "metadata": {},
   "source": [
    "<b><font size=\"6\" color=\"red\">ch02. 자료형과 연산자</font></b>\n",
    "\n",
    "# 5절. 연산자\n",
    "\n",
    "## 5.1 산술연산자 : +, -, *, /(결과 float), //(몫), %(나머지), **(제곱)"
   ]
  },
  {
   "cell_type": "code",
   "execution_count": 9,
   "id": "107332d3",
   "metadata": {},
   "outputs": [
    {
     "name": "stdout",
     "output_type": "stream",
     "text": [
      "10*5승 = 100000\n",
      "4/2(결과 실수) = 2.0\n",
      "5/2(결과 실수) = 2.5\n",
      "5//2(몫) = 2\n",
      "5%2(나머지) = 1\n"
     ]
    }
   ],
   "source": [
    "print(\"10*5승 =\", 10**5)\n",
    "print(\"4/2(결과 실수) =\", 4/2)\n",
    "print(\"5/2(결과 실수) =\", 5/2)\n",
    "print(\"5//2(몫) =\", 5//2)\n",
    "print(\"5%2(나머지) =\", 5%2) "
   ]
  },
  {
   "cell_type": "code",
   "execution_count": 5,
   "id": "e645589a",
   "metadata": {},
   "outputs": [
    {
     "name": "stdout",
     "output_type": "stream",
     "text": [
      "4**2 = 16.0\n"
     ]
    }
   ],
   "source": [
    "# 정수끼리 연산은 결과가 정수 (단, /는 제외(나머지))\n",
    "# 정수와 실수, 실수끼리 연산 결과는 실수\n",
    "print(\"4**2 =\", 4**2.0)"
   ]
  },
  {
   "cell_type": "code",
   "execution_count": 12,
   "id": "4f9fee08",
   "metadata": {},
   "outputs": [
    {
     "name": "stdout",
     "output_type": "stream",
     "text": [
      "정수를 입력하세요:915\n",
      "입력하신 수는 915, 2로 나눈 나머지는 1라서 홀수를 입력하셨습니다.\n",
      "입력하신 수는 915, 2로 나눈 나머지는 1라서 홀수를 입력하셨습니다.\n"
     ]
    }
   ],
   "source": [
    "# quiz1. 정수를 입력받아 짝수인지 홀수인지 여부를 출력\n",
    "num = int(input(\"정수를 입력하세요:\"))\n",
    "result = num % 2 # -1, 0, 1\n",
    "if result:\n",
    "    temp = \"홀수\"\n",
    "else:\n",
    "    temp = \"짝수\"\n",
    "print(\"입력하신 수는 {}, 2로 나눈 나머지는 {}라서 {}를 입력하셨습니다.\".format(num, result, temp)) # 정답 1\n",
    "print(f\"입력하신 수는 {num}, 2로 나눈 나머지는 {result}라서 {temp}를 입력하셨습니다.\") 정답 2"
   ]
  },
  {
   "cell_type": "code",
   "execution_count": 19,
   "id": "f22b229e",
   "metadata": {},
   "outputs": [
    {
     "name": "stdout",
     "output_type": "stream",
     "text": [
      "숫자를 입력해주세요:101\n",
      "입력하신 숫자 101를 5로 나누었을 때 나머지가 1이기 때문에 5의 배수가 아닙니다.\n"
     ]
    }
   ],
   "source": [
    "# quiz2. 정수를 입력받아 5의 배수인지 여부를 출력\n",
    "num2 = int(input(\"정수를 입력해주세요:\"))\n",
    "result2 = num2 % 5 # -4, -3, -2, -1, 0, 1, 2, 3, 4\n",
    "if result2:\n",
    "    temp2 = \"아닙니다.\"\n",
    "else:\n",
    "    temp2 = \"맞습니다.\"\n",
    "print(\"입력하신 숫자 {}를 5로 나누었을 때 나머지가 {}이기 때문에 5의 배수가 {}\".format(num2, result2, temp2))\n"
   ]
  },
  {
   "cell_type": "code",
   "execution_count": 62,
   "id": "bde22da8",
   "metadata": {},
   "outputs": [
    {
     "name": "stdout",
     "output_type": "stream",
     "text": [
      "정수를 입력하세요:11\n",
      "5의 배수가 아닙니다.\n"
     ]
    }
   ],
   "source": [
    "# (강사님 풀이)\n",
    "# quiz2.정수를 입력받아 5의 배수인지 여부를 출력\n",
    "num = int(input(\"정수를 입력하세요:\"))\n",
    "if num%5: # 5로 나누었을 때 0이 아니면 True\n",
    "    print(\"5의 배수가 아닙니다.\")\n",
    "else:\n",
    "    print(\"5의 배수입니다.\")\n"
   ]
  },
  {
   "cell_type": "code",
   "execution_count": 63,
   "id": "be550d4e",
   "metadata": {},
   "outputs": [
    {
     "name": "stdout",
     "output_type": "stream",
     "text": [
      "국어:  99\t영어:100\t수학: 99\n",
      "총점: 298\t평균: 99.3\n"
     ]
    }
   ],
   "source": [
    "# quiz3.국어 영어 수학 점수를 입력받아 다음셀에서 다음과 같이 출력하도록 구현하시오.\n",
    "# 국어:99, 영어:100, 수학:99, 총점:298, 평균:99.3\n",
    "\n",
    "a = 99    # 점수를 받아적어서 출력해야 하는 조건이 있기 때문에 input 함수를 사용했어야 함\n",
    "b = 100   # 점수를 받아적어서 출력해야 하는 조건이 있기 때문에 input 함수를 사용했어야 함\n",
    "c = 99    # 점수를 받아적어서 출력해야 하는 조건이 있기 때문에 input 함수를 사용했어야 함\n",
    "total = a + b + c   # a, b, c 이런 형식으로 사용하는 것은 가독성 및 여러 사람이 보기에 좋지 않음\n",
    "average = (a + b+ c)/3\n",
    "ave = \"{:.1f}\".format(average)\n",
    "\n",
    "print(\"국어:  {}\\t영어:{}\\t수학: {}\".format(a, b, c))\n",
    "print(\"총점: {}\\t평균: {}\".format(total, ave))\n",
    "\n",
    "\n",
    "\n",
    "# print(\"국어:\", a, \"영어:\", b, \"수학:\", c, sep='\\t')\n",
    "# print(\"총점:\", total, \"평균: \", \"{:.1f}\".format(average), sep='\\t')"
   ]
  },
  {
   "cell_type": "code",
   "execution_count": 3,
   "id": "9ae9e1b6",
   "metadata": {},
   "outputs": [
    {
     "name": "stdout",
     "output_type": "stream",
     "text": [
      "국어?99\n",
      "영어?100\n",
      "수학?100\n"
     ]
    }
   ],
   "source": [
    "# (강사님 풀이) \n",
    "# quiz3.국어 영어 수학 점수를 입력받아 다음셀에서 다음과 같이 출력하도록 구현하시오\n",
    "# 국어:99, 영어:100, 수학:100, 총점:299, 평균:99.7\n",
    "\n",
    "kor = int(input(\"국어?\"))\n",
    "eng = int(input(\"영어?\"))\n",
    "mat = int(input(\"수학?\"))\n",
    "sum = kor + eng + mat\n",
    "avg = sum / 3"
   ]
  },
  {
   "cell_type": "code",
   "execution_count": 9,
   "id": "59b8edce",
   "metadata": {},
   "outputs": [
    {
     "name": "stdout",
     "output_type": "stream",
     "text": [
      "국어 :  99\t영어 : 100\t수학 : 100\n",
      "총점 : 299\t평균 :  99.7\n"
     ]
    }
   ],
   "source": [
    "print(\"국어 : {:3d}\\t영어 : {:3d}\\t수학 : {:3d}\".format(kor, eng, mat))\n",
    "print(\"총점 : {:3d}\\t평균 : {:5.1f}\".format(sum, avg))"
   ]
  },
  {
   "cell_type": "markdown",
   "id": "b8004925",
   "metadata": {},
   "source": [
    "## 5.2 할당연산자 : =,+=, -=, /=, *=, //=, %="
   ]
  },
  {
   "cell_type": "code",
   "execution_count": 68,
   "id": "6f70f7aa",
   "metadata": {},
   "outputs": [
    {
     "name": "stdout",
     "output_type": "stream",
     "text": [
      "a = 15\n"
     ]
    }
   ],
   "source": [
    "# a = b = 10 #잘 사용하지 않음 (할당연산자는 오른쪽에서 부터 할당시작함. 즉 b=10 부터 시작)\n",
    "a = 10\n",
    "a += 5 # a = a + 5와 동일\n",
    "print(f\"a = {a}\")"
   ]
  },
  {
   "cell_type": "code",
   "execution_count": 69,
   "id": "b0f92106",
   "metadata": {},
   "outputs": [
    {
     "name": "stdout",
     "output_type": "stream",
     "text": [
      "5빼기 : 10\n",
      "10배 : 100\n",
      "5나눈 몫 : 20\n"
     ]
    }
   ],
   "source": [
    "a -= 5 # a = a - 5\n",
    "print(\"5빼기 :\", a) # 10\n",
    "a *= 10 # a = a*10\n",
    "print(\"10배 :\", a) # 100\n",
    "a //= 5 # a = a//5\n",
    "print(\"5나눈 몫 :\", a)"
   ]
  },
  {
   "cell_type": "markdown",
   "id": "bf94e398",
   "metadata": {},
   "source": [
    "## 5.3 논리연산자 : &, and, |, or, not"
   ]
  },
  {
   "cell_type": "code",
   "execution_count": 76,
   "id": "2ce174d4",
   "metadata": {},
   "outputs": [
    {
     "name": "stdout",
     "output_type": "stream",
     "text": [
      "True\n",
      "0\n"
     ]
    }
   ],
   "source": [
    "# & : 논리연산자, 비트연산자\n",
    "print((10>3) & (10>5)) # 논리연산 True & True\n",
    "print(12 & 1) # 비트 연산 1 1 0 0 (12)\n",
    "                     #   0 0 0 1  (1)\n",
    "                     # &:0 0 0 0  \n"
   ]
  },
  {
   "cell_type": "code",
   "execution_count": 87,
   "id": "d7922182",
   "metadata": {},
   "outputs": [
    {
     "name": "stdout",
     "output_type": "stream",
     "text": [
      "True\n",
      "0\n"
     ]
    }
   ],
   "source": [
    "# and : 논리연산자. False로 판별되는 첫번째 항의 결과 반환.\n",
    "        ## 모든 항이 True면, 마지막항의 결과 반환\n",
    "print((10>3) and (10>5))\n",
    "print(0 and 1)"
   ]
  },
  {
   "cell_type": "code",
   "execution_count": 91,
   "id": "8e693a98",
   "metadata": {},
   "outputs": [
    {
     "name": "stdout",
     "output_type": "stream",
     "text": [
      "논리연산(연산자 앞뒤에 논리형일 때) : True\n",
      "비트연산(연산자 앞이나 뒤에 숫자일 때) : 3\n"
     ]
    }
   ],
   "source": [
    "# | : 논리연산, 비트연산\n",
    "result = True | False\n",
    "print('논리연산(연산자 앞뒤에 논리형일 때) :', result)\n",
    "result = False | 3 # 0000 (0)\n",
    "                   # 0011 (3)\n",
    "print('비트연산(연산자 앞이나 뒤에 숫자일 때) :', result)"
   ]
  },
  {
   "cell_type": "code",
   "execution_count": 93,
   "id": "dfa02964",
   "metadata": {},
   "outputs": [
    {
     "name": "stdout",
     "output_type": "stream",
     "text": [
      "[]\n",
      "Hong\n"
     ]
    }
   ],
   "source": [
    "# or : 논리연산. 참으로 판별되는 첫번째 항의 결과 반환\n",
    "        # 모든 항이 거짓이면 마지막항의 결과 반환\n",
    "print(False or 0 or '' or None or [])\n",
    "print(False or 0 or 'Hong' or None or [])"
   ]
  },
  {
   "cell_type": "code",
   "execution_count": 94,
   "id": "12f7d6b2",
   "metadata": {},
   "outputs": [
    {
     "data": {
      "text/plain": [
       "False"
      ]
     },
     "execution_count": 94,
     "metadata": {},
     "output_type": "execute_result"
    }
   ],
   "source": [
    "not 10>5"
   ]
  },
  {
   "cell_type": "markdown",
   "id": "22d938a0",
   "metadata": {},
   "source": [
    "## 5.3 비교연산자: >, >=, <, <=, ==(같다), !=(다르다)"
   ]
  },
  {
   "cell_type": "code",
   "execution_count": 97,
   "id": "e0772667",
   "metadata": {},
   "outputs": [
    {
     "name": "stdout",
     "output_type": "stream",
     "text": [
      "True\n",
      "True\n",
      "True\n"
     ]
    }
   ],
   "source": [
    "# 비교연산자는 이항(2개의 항), 삼항, 사항, ... 다항연산자\n",
    "x = 95\n",
    "print((90<=x) & (x<=100))\n",
    "print(90 <= x <=100)\n",
    "print(90 <= x <=100 > 10)"
   ]
  },
  {
   "cell_type": "code",
   "execution_count": 99,
   "id": "8daa23b1",
   "metadata": {},
   "outputs": [
    {
     "name": "stdout",
     "output_type": "stream",
     "text": [
      "True\n",
      "False\n",
      "False\n"
     ]
    }
   ],
   "source": [
    "# 비교연산자의 우선순위가 비트연산자(|,&)의 우선순위보다 낮다\n",
    "print( (10>5) & (10>7))\n",
    "print( 10>5 & 10>7 ) # 괄호가 없으면 우선순위가 높은 5&10(비트연산자)부터 실행\n",
    "print( 10 > 0 > 7 )\n",
    "# 0101(5) & 1010(10)"
   ]
  },
  {
   "cell_type": "code",
   "execution_count": 104,
   "id": "5348b287",
   "metadata": {},
   "outputs": [
    {
     "name": "stdout",
     "output_type": "stream",
     "text": [
      "True\n",
      "True\n"
     ]
    }
   ],
   "source": [
    "address = \"목동\"\n",
    "age = 29\n",
    "print( (address==\"목동\") & (age < 30) )\n",
    "print( address==\"목동\" and age < 30 )"
   ]
  },
  {
   "cell_type": "code",
   "execution_count": 109,
   "id": "35d63add",
   "metadata": {},
   "outputs": [
    {
     "data": {
      "text/plain": [
       "True"
      ]
     },
     "execution_count": 109,
     "metadata": {},
     "output_type": "execute_result"
    }
   ],
   "source": [
    "# 문자는 ASCII 코드 순으로 비교 : 특수문자 < 숫자문자 < 대문자 < 소문자(abc순)\n",
    "\"scott\" < \"tiger\""
   ]
  },
  {
   "cell_type": "code",
   "execution_count": 108,
   "id": "5ba8c2c1",
   "metadata": {},
   "outputs": [
    {
     "data": {
      "text/plain": [
       "True"
      ]
     },
     "execution_count": 108,
     "metadata": {},
     "output_type": "execute_result"
    }
   ],
   "source": [
    "\"김길동\" < \"홍길동\""
   ]
  },
  {
   "cell_type": "markdown",
   "id": "4dfe5629",
   "metadata": {},
   "source": [
    "## 5.5 비트연산 : &, |, ^(XOR), ~(반대), \n",
    "\n",
    "```\n",
    "\n",
    "x y x&y x|y x^y ~x\n",
    "----------------------\n",
    "0 0  0   0   0   1\n",
    "0 1  0   1   1   0\n",
    "1 0  0   1   1   0\n",
    "1 1  1   1   0   1\n",
    "\n",
    "```"
   ]
  },
  {
   "cell_type": "code",
   "execution_count": 12,
   "id": "650eb8bc",
   "metadata": {},
   "outputs": [
    {
     "name": "stdout",
     "output_type": "stream",
     "text": [
      "  a = 15 : 1111\n",
      "  b =  2 : 0010\n",
      "a&b =  2 : 0010\n",
      "a|b = 15 : 1111\n",
      "a^b = 13 : 1101\n",
      " ~a = -16 : -10000\n"
     ]
    }
   ],
   "source": [
    "a = 15 # 1111 (8+4+2+1)\n",
    "b =  2 # 0010 (2)\n",
    "print(\"  a = {0:2} : {0:04b}\".format(a))\n",
    "print(\"  b = {0:2} : {0:04b}\".format(b))\n",
    "print(\"a&b = {0:2} : {0:04b}\".format(a&b))\n",
    "print(\"a|b = {0:2} : {0:04b}\".format(a|b))\n",
    "print(\"a^b = {0:2} : {0:04b}\".format(a^b))\n",
    "print(\" ~a = {0:2} : {0:04b}\".format(~a))  #몰라도 상관없음??"
   ]
  },
  {
   "cell_type": "markdown",
   "id": "0dc56956",
   "metadata": {},
   "source": [
    "# 6절 문자열 다루기 (자바, C언어 모두 비슷함)\n",
    "- 문자열변수[form:to:step] : 일부 문자 추출\n",
    "- len(문자열변수) : 문자개수\n",
    "\n",
    "- upper() : 모든 문자를 대문자로 바꿔줌\n",
    "- lower() : 모든 문자를 소문자로 바꿔줌\n",
    "- title() : 각 어절의 앞글자만(첫글자) 대문자로 바꿔줌\n",
    "- capitalize() : 첫문자만 대문자로 바꿔줌\n",
    "- count(\"찾을문자\") : \"찾을문자\"가 몇개 들어있는지 갯수를 변환함\n",
    "- find(\"찾을문자\") : \"찾을문자\"가 왼쪽부터 몇번째에 있는지 index를 반환함(문자가 없으면 -1 반환)\n",
    "- rfind(\"찾을문자\") : \"찾을문자\"가 오른쪽부터 몇번째에 있는지 index를 반환함\n",
    "\n",
    "     cf. index(\"찾을문자\") : 찾을문자가 왼쪽부터 몇번째에 있는 index를 반환(문자가 없으면 에러를 반환)\n",
    "\n",
    "- startswith(\"특정문자\") : \"특정문자\"로 시작하는지 여부를 True/False 값으로 반환함\n",
    "- endswith(\"특정문자\") : \"특정문자\"로 끝나는지 여부를 True/False 값으로 반환함 \n",
    "\n",
    "- strip() : 좌우 공백을 제거함(다른언어에서는 trim으로 사용함)\n",
    "- lstrip() : 왼쪽(left) 공백 제거함\n",
    "- rstrip() : 오른쪽(right) 공백 제거함\n",
    "- split() : 문자열을 공백이나 다른 문자 기준으로 나누어 리스트로 반환함\n",
    "- isdigit() : 문자열이 숫자열인지 문자열인지 여부를 반환함 (숫자면 True, 아니면 False)\n",
    "- islower() : 문자열이 소문자인지 여부를 반환함 (소문자면 True, 아니면 False)\n",
    "- isupper() : 문자열이 대문자인지 여부를 반환함 (대문자면 True, 아니면 False)\n",
    "\n",
    "- replace(oldStr, newStr) : oldStr을 newStr로 변경\n"
   ]
  },
  {
   "cell_type": "code",
   "execution_count": 16,
   "id": "fa720b88",
   "metadata": {},
   "outputs": [
    {
     "data": {
      "text/plain": [
       "('python is easy. python is smart. python', 39)"
      ]
     },
     "execution_count": 16,
     "metadata": {},
     "output_type": "execute_result"
    }
   ],
   "source": [
    "temp = \"python is easy. python is smart. python\"\n",
    "temp, len(temp)"
   ]
  },
  {
   "cell_type": "code",
   "execution_count": 22,
   "id": "7bd436bb",
   "metadata": {},
   "outputs": [
    {
     "name": "stdout",
     "output_type": "stream",
     "text": [
      " 1. 대문자로 : PYTHON IS EASY. PYTHON IS SMART. PYTHON\n",
      " 2. 소문자로 : python is easy. python is smart. python\n",
      " 3. title() : Python Is Easy. Python Is Smart. Python\n",
      " 4. capitalize() : Python is easy. python is smart. python\n",
      " 5. C가 몇번 나오는지 : 0\n",
      " 6. python이 몇번 나오는지 : 2\n",
      " 7. 대소문자 구분없이 python이 몇번 나오는지 : 3\n",
      " 8. 대소문자 구분없이 python이 몇번 나오는지 : 3\n",
      " 9. 대소문자 구분없이 python이 몇번 나오는지 : 3\n",
      "10. pyton이 나오는 첫 index 위치 : 0\n",
      "11. pyton이 나오는 마지막 index 위치 : 33\n",
      "12. c가 나오는 index 위치 : -1\n",
      "13. python이 나오는 첫 index 위치 : 0\n",
      "14. python으로 시작하는 여부 : True\n",
      "15. 대소문자 구분없이 python으로 시작하는 여부 : True\n",
      "16. python으로 끝나는지 여부 : True\n",
      "17. n으로 끝나는지 여부 : True\n",
      "18. python을 R로 변경 : R is easy. Python is smart. R\n"
     ]
    }
   ],
   "source": [
    "temp = \"python is easy. Python is smart. python\"\n",
    "      # 012345678901234567890123456789012345678\n",
    "print(\" 1. 대문자로 :\", temp.upper())\n",
    "print(\" 2. 소문자로 :\", temp.lower())\n",
    "print(\" 3. title() :\", temp.title())\n",
    "print(\" 4. capitalize() :\", temp.capitalize())\n",
    "print(\" 5. C가 몇번 나오는지 :\", temp.count(\"C\"))\n",
    "print(\" 6. python이 몇번 나오는지 :\", temp.count(\"python\"))\n",
    "print(\" 7. 대소문자 구분없이 python이 몇번 나오는지 :\", temp.lower().count(\"python\"))\n",
    "print(\" 8. 대소문자 구분없이 python이 몇번 나오는지 :\", temp.upper().count(\"PYTHON\"))\n",
    "print(\" 9. 대소문자 구분없이 python이 몇번 나오는지 :\", temp.title().count(\"Python\"))\n",
    "print(\"10. pyton이 나오는 첫 index 위치 :\", temp.find(\"python\"))\n",
    "print(\"11. pyton이 나오는 마지막 index 위치 :\", temp.rfind(\"python\"))\n",
    "print(\"12. c가 나오는 index 위치 :\", temp.find(\"c\")) # 찾는 문자가 없을 경우 -1로 나타남\n",
    "print(\"13. python이 나오는 첫 index 위치 :\", temp.index(\"python\"))\n",
    "# print(\"java가 나오는 첫 index 위치 :\", temp.index(\"java\")) #찾는 문자가 없을 경우 에러가 발생\n",
    "print(\"14. python으로 시작하는 여부 :\", temp.startswith(\"python\"))\n",
    "print(\"15. 대소문자 구분없이 python으로 시작하는 여부 :\", temp.lower().startswith(\"python\"))\n",
    "print(\"16. python으로 끝나는지 여부 :\", temp.endswith(\"python\"))\n",
    "print(\"17. n으로 끝나는지 여부 :\", temp.endswith(\"n\"))\n",
    "print(\"18. python을 R로 변경 :\", temp.replace(\"python\", \"R\"))"
   ]
  },
  {
   "cell_type": "code",
   "execution_count": 36,
   "id": "99741c5a",
   "metadata": {},
   "outputs": [
    {
     "name": "stdout",
     "output_type": "stream",
     "text": [
      "  좌우 공백 제거 : [python is easy]\n",
      "  왼쪽 공백 제거 : [python is easy   ]\n",
      "오른쪽 공백 제거 : [    python is easy]\n",
      "isdigit(숫자문자)인지 여부 : False\n",
      "replace후 isdigit : True\n",
      "대문자인지 여부 : False\n",
      "소문자인지 여부 : True\n"
     ]
    }
   ],
   "source": [
    "temp = \"    python is easy   \"\n",
    "notdigit = \"1,000\"\n",
    "print(\"  좌우 공백 제거 : [{}]\".format(temp.strip()))\n",
    "print(\"  왼쪽 공백 제거 : [{}]\".format(temp.lstrip()))\n",
    "print(\"오른쪽 공백 제거 : [{}]\".format(temp.rstrip()))\n",
    "print(\"isdigit(숫자문자)인지 여부 :\", notdigit.isdigit())\n",
    "print(\"replace후 isdigit :\", notdigit.replace(\",\", \"\").isdigit())\n",
    "print(\"대문자인지 여부 :\", temp.isupper())\n",
    "print(\"소문자인지 여부 :\", temp.islower())"
   ]
  },
  {
   "cell_type": "code",
   "execution_count": 41,
   "id": "a09f7829",
   "metadata": {},
   "outputs": [
    {
     "name": "stdout",
     "output_type": "stream",
     "text": [
      "space단위로 names를 분리(list로 반환) : ['홍길동', '김길동', '박길동', '주길동', '고길동']\n",
      "\n",
      "홍길동 김길동\n"
     ]
    }
   ],
   "source": [
    "names = \"홍길동 김길동     박길동 주길동 고길동\"\n",
    "name_list = names.split()\n",
    "print(\"space단위로 names를 분리(list로 반환) :\", name_list)\n",
    "print()\n",
    "print(name_list[0], name_list[1])"
   ]
  },
  {
   "cell_type": "code",
   "execution_count": 44,
   "id": "ede1a69b",
   "metadata": {},
   "outputs": [
    {
     "name": "stdout",
     "output_type": "stream",
     "text": [
      "['2025', '09', '17']\n",
      "년도 : 2025\n",
      "  월 : 09\n",
      "  일 : 17\n"
     ]
    }
   ],
   "source": [
    "date_str = \"2025-09-17\"\n",
    "date_list = date_str.split(\"-\")\n",
    "print(date_list)\n",
    "print(\"년도 :\", date_list[0])\n",
    "print(\"  월 :\", date_list[1])\n",
    "print(\"  일 :\", date_list[2])"
   ]
  },
  {
   "cell_type": "code",
   "execution_count": null,
   "id": "c01ba369",
   "metadata": {},
   "outputs": [],
   "source": []
  },
  {
   "cell_type": "code",
   "execution_count": 4,
   "id": "3ddc7a58",
   "metadata": {},
   "outputs": [
    {
     "name": "stdout",
     "output_type": "stream",
     "text": [
      "분리된 temp : ['Python', '웹(HTML/CSS/JS)', 'Oracle/MySQL(DBMS)', 'DL/ML(M/DNN/CNN/RNN)', 'LLM(RAG) ']\n",
      "join temp : Python/웹(HTML/CSS/JS)/Oracle/MySQL(DBMS)/DL/ML(M/DNN/CNN/RNN)/LLM(RAG) \n"
     ]
    }
   ],
   "source": [
    "# ' - '을 \"/\"로 바꾸기\n",
    "temp = \"Python - 웹(HTML/CSS/JS) - Oracle/MySQL(DBMS) - DL/ML(M/DNN/CNN/RNN) - LLM(RAG) \"\n",
    "# temp.replace(\" - \", \"/\")\n",
    "# split()와 join() 이용하여 replace역할을 대신하는 방법\n",
    "splited_temp = temp.split(\" - \")\n",
    "# print(splited_temp)\n",
    "print('분리된 temp :', splited_temp)\n",
    "joined_temp = \"/\".join(splited_temp) # \"/\"로 매개변수 list를 연결\n",
    "print(\"join temp :\", joined_temp)"
   ]
  },
  {
   "cell_type": "code",
   "execution_count": 5,
   "id": "2bece581",
   "metadata": {
    "collapsed": true
   },
   "outputs": [
    {
     "data": {
      "text/plain": [
       "['__add__',\n",
       " '__class__',\n",
       " '__contains__',\n",
       " '__delattr__',\n",
       " '__dir__',\n",
       " '__doc__',\n",
       " '__eq__',\n",
       " '__format__',\n",
       " '__ge__',\n",
       " '__getattribute__',\n",
       " '__getitem__',\n",
       " '__getnewargs__',\n",
       " '__gt__',\n",
       " '__hash__',\n",
       " '__init__',\n",
       " '__init_subclass__',\n",
       " '__iter__',\n",
       " '__le__',\n",
       " '__len__',\n",
       " '__lt__',\n",
       " '__mod__',\n",
       " '__mul__',\n",
       " '__ne__',\n",
       " '__new__',\n",
       " '__reduce__',\n",
       " '__reduce_ex__',\n",
       " '__repr__',\n",
       " '__rmod__',\n",
       " '__rmul__',\n",
       " '__setattr__',\n",
       " '__sizeof__',\n",
       " '__str__',\n",
       " '__subclasshook__',\n",
       " 'capitalize',\n",
       " 'casefold',\n",
       " 'center',\n",
       " 'count',\n",
       " 'encode',\n",
       " 'endswith',\n",
       " 'expandtabs',\n",
       " 'find',\n",
       " 'format',\n",
       " 'format_map',\n",
       " 'index',\n",
       " 'isalnum',\n",
       " 'isalpha',\n",
       " 'isascii',\n",
       " 'isdecimal',\n",
       " 'isdigit',\n",
       " 'isidentifier',\n",
       " 'islower',\n",
       " 'isnumeric',\n",
       " 'isprintable',\n",
       " 'isspace',\n",
       " 'istitle',\n",
       " 'isupper',\n",
       " 'join',\n",
       " 'ljust',\n",
       " 'lower',\n",
       " 'lstrip',\n",
       " 'maketrans',\n",
       " 'partition',\n",
       " 'removeprefix',\n",
       " 'removesuffix',\n",
       " 'replace',\n",
       " 'rfind',\n",
       " 'rindex',\n",
       " 'rjust',\n",
       " 'rpartition',\n",
       " 'rsplit',\n",
       " 'rstrip',\n",
       " 'split',\n",
       " 'splitlines',\n",
       " 'startswith',\n",
       " 'strip',\n",
       " 'swapcase',\n",
       " 'title',\n",
       " 'translate',\n",
       " 'upper',\n",
       " 'zfill']"
      ]
     },
     "execution_count": 5,
     "metadata": {},
     "output_type": "execute_result"
    }
   ],
   "source": [
    "# 문자열을 다룰 수 있는 함수 목록을 확인하는 방법\n",
    "# temp = \"a\"\n",
    "3 dir(str)"
   ]
  },
  {
   "cell_type": "code",
   "execution_count": 4,
   "id": "5069688e",
   "metadata": {},
   "outputs": [
    {
     "ename": "TypeError",
     "evalue": "int() can't convert non-string with explicit base",
     "output_type": "error",
     "traceback": [
      "\u001b[1;31m---------------------------------------------------------------------------\u001b[0m",
      "\u001b[1;31mTypeError\u001b[0m                                 Traceback (most recent call last)",
      "Cell \u001b[1;32mIn[4], line 1\u001b[0m\n\u001b[1;32m----> 1\u001b[0m \u001b[38;5;28;43mint\u001b[39;49m\u001b[43m(\u001b[49m\u001b[38;5;241;43m1\u001b[39;49m\u001b[43m,\u001b[49m\u001b[38;5;241;43m000\u001b[39;49m\u001b[43m)\u001b[49m\n",
      "\u001b[1;31mTypeError\u001b[0m: int() can't convert non-string with explicit base"
     ]
    }
   ],
   "source": [
    "int(1,000)"
   ]
  },
  {
   "cell_type": "code",
   "execution_count": 5,
   "id": "f7ebbae9",
   "metadata": {},
   "outputs": [
    {
     "data": {
      "text/plain": [
       "1000"
      ]
     },
     "execution_count": 5,
     "metadata": {},
     "output_type": "execute_result"
    }
   ],
   "source": [
    "int(\"1,000\".replace(\",\", \"\"))"
   ]
  },
  {
   "cell_type": "markdown",
   "id": "668c3545",
   "metadata": {},
   "source": [
    "# 7절. 시간, 날짜 다루기\n",
    "\n",
    "## 7.1절 시간 및 날짜"
   ]
  },
  {
   "cell_type": "code",
   "execution_count": 6,
   "id": "558fd655",
   "metadata": {},
   "outputs": [
    {
     "data": {
      "text/plain": [
       "'C:\\\\Users\\\\Admin\\\\anaconda3\\\\lib\\\\datetime.py'"
      ]
     },
     "execution_count": 6,
     "metadata": {},
     "output_type": "execute_result"
    }
   ],
   "source": [
    "import datetime\n",
    "datetime.__file__"
   ]
  },
  {
   "cell_type": "code",
   "execution_count": 7,
   "id": "f46b4cf0",
   "metadata": {},
   "outputs": [],
   "source": [
    "# datetime모듈(datetime.py)안의 class 중에 datetime, date, time 만 load해서 메모리에 올려 두겠다.\n",
    "from datetime import datetime, date, time"
   ]
  },
  {
   "cell_type": "code",
   "execution_count": 13,
   "id": "7b788fd2",
   "metadata": {},
   "outputs": [
    {
     "data": {
      "text/plain": [
       "datetime.datetime(2025, 9, 11, 9, 30)"
      ]
     },
     "execution_count": 13,
     "metadata": {},
     "output_type": "execute_result"
    }
   ],
   "source": [
    "# 특정 시점을 갖는 datetime 객체 생성\n",
    "thatday = datetime(2025, 9, 11, 9, 30)\n",
    "thatday"
   ]
  },
  {
   "cell_type": "code",
   "execution_count": 17,
   "id": "532afdea",
   "metadata": {},
   "outputs": [
    {
     "name": "stdout",
     "output_type": "stream",
     "text": [
      "25년09월11일(Thursday) 09:30:00\n",
      "25년09월11일(Thursday) 09:30:00\n",
      "Thu Sep 11 09:30:00 2025\n"
     ]
    }
   ],
   "source": [
    "# 날짜를 문자열로 전환\n",
    "print(\"{:%y년%m월%d일(%A) %H:%M:%S}\".format(thatday)) # 자주 사용하지 않는 형식\n",
    "print(thatday.strftime(\"%y년%m월%d일(%A) %H:%M:%S\"))\n",
    "print(thatday.ctime()) # ctime() : 사람이 읽기 쉬운 형태로 convert (변환. 한국스타일은 아님)"
   ]
  },
  {
   "cell_type": "code",
   "execution_count": 19,
   "id": "dc0a0280",
   "metadata": {},
   "outputs": [
    {
     "name": "stdout",
     "output_type": "stream",
     "text": [
      "2025-09-17 14:25:03.575488\n",
      "Wed Sep 17 14:25:03 2025\n",
      "25년09월17일 PM 02:25:03\n"
     ]
    }
   ],
   "source": [
    "# 지금을 저장하는 datetime 객체 생성\n",
    "now = datetime.now()\n",
    "print(now)\n",
    "print(now.ctime())\n",
    "print(now.strftime(\"%y년%m월%d일 %p %I:%M:%S\"))"
   ]
  },
  {
   "cell_type": "code",
   "execution_count": 22,
   "id": "61cc7906",
   "metadata": {},
   "outputs": [
    {
     "name": "stdout",
     "output_type": "stream",
     "text": [
      "6 days, 4:55:03.575488\n",
      "6 days\n"
     ]
    }
   ],
   "source": [
    "diff = now - thatday\n",
    "print(diff)\n",
    "print(diff.days)"
   ]
  },
  {
   "cell_type": "markdown",
   "id": "b6ffed45",
   "metadata": {},
   "source": [
    "## 7.2 날짜"
   ]
  },
  {
   "cell_type": "code",
   "execution_count": 28,
   "id": "25c40725",
   "metadata": {},
   "outputs": [
    {
     "data": {
      "text/plain": [
       "datetime.date(2025, 9, 11)"
      ]
     },
     "execution_count": 28,
     "metadata": {},
     "output_type": "execute_result"
    }
   ],
   "source": [
    "# 특정한 날짜를 갖는 date 객체 생성\n",
    "someday = date(2025, 9, 11)\n",
    "someday"
   ]
  },
  {
   "cell_type": "code",
   "execution_count": 32,
   "id": "c500987e",
   "metadata": {},
   "outputs": [
    {
     "name": "stdout",
     "output_type": "stream",
     "text": [
      "2025-09-11\n",
      "25년 09월 11일 00:00:00\n"
     ]
    }
   ],
   "source": [
    "print(someday)\n",
    "print(someday.strftime(\"%y년 %m월 %d일 %H:%M:%S\"))"
   ]
  },
  {
   "cell_type": "code",
   "execution_count": 37,
   "id": "37ae1d97",
   "metadata": {},
   "outputs": [
    {
     "name": "stdout",
     "output_type": "stream",
     "text": [
      "True\n"
     ]
    }
   ],
   "source": [
    "# 오늘을 갖는 date 객체 생성\n",
    "today1 = date.today()\n",
    "today2 = datetime.now().date()\n",
    "print(today1 == today2)"
   ]
  },
  {
   "cell_type": "code",
   "execution_count": 39,
   "id": "236be696",
   "metadata": {},
   "outputs": [
    {
     "name": "stdout",
     "output_type": "stream",
     "text": [
      "2025년 09월 17일 00:00\n"
     ]
    }
   ],
   "source": [
    "print(today1.strftime(\"%Y년 %m월 %d일 %H:%M\"))"
   ]
  },
  {
   "cell_type": "code",
   "execution_count": 42,
   "id": "df07d480",
   "metadata": {},
   "outputs": [
    {
     "name": "stdout",
     "output_type": "stream",
     "text": [
      "-6 days, 0:00:00\n",
      "-6\n"
     ]
    }
   ],
   "source": [
    "diff = someday - today1\n",
    "print(diff)\n",
    "print(diff.days) # 일 숫자만 나타내고 싶을때 사용"
   ]
  },
  {
   "cell_type": "markdown",
   "id": "c1dacf1e",
   "metadata": {},
   "source": [
    "## 7.3 시간"
   ]
  },
  {
   "cell_type": "code",
   "execution_count": 45,
   "id": "c34d7875",
   "metadata": {},
   "outputs": [
    {
     "data": {
      "text/plain": [
       "datetime.time(14, 39)"
      ]
     },
     "execution_count": 45,
     "metadata": {},
     "output_type": "execute_result"
    }
   ],
   "source": [
    "# 특정한 시간을 저장하는 time 객체 생성\n",
    "t = time(14, 39, 0)\n",
    "t"
   ]
  },
  {
   "cell_type": "code",
   "execution_count": 47,
   "id": "d7074dc3",
   "metadata": {},
   "outputs": [
    {
     "name": "stdout",
     "output_type": "stream",
     "text": [
      "PM 02:39\n",
      "1900년 01월 01일 PM 02:39\n"
     ]
    }
   ],
   "source": [
    "print(t.strftime(\"%p %I:%M\"))\n",
    "print(t.strftime(\"%Y년 %m월 %d일 %p %I:%M\")) # 이상한 날짜가 나타남. 그래서 사용하면 안됨"
   ]
  },
  {
   "cell_type": "code",
   "execution_count": 48,
   "id": "fb201ebd",
   "metadata": {},
   "outputs": [
    {
     "name": "stdout",
     "output_type": "stream",
     "text": [
      "14:43:33.824408\n"
     ]
    }
   ],
   "source": [
    "# 현재 시간\n",
    "nowtime = datetime.now().time()\n",
    "print(nowtime)"
   ]
  },
  {
   "cell_type": "markdown",
   "id": "6606ab37",
   "metadata": {},
   "source": [
    "# 8절. 연습문제"
   ]
  },
  {
   "cell_type": "code",
   "execution_count": 54,
   "id": "d076f0c0",
   "metadata": {},
   "outputs": [
    {
     "name": "stdout",
     "output_type": "stream",
     "text": [
      "출력형식 : [홍길동님의 나이는 23살입니다.]\n",
      "출력형식 : [홍길동님의 나이는 23살입니다.]\n"
     ]
    }
   ],
   "source": [
    "# 1. 이름과 나이 변수를 다음 형식으로 출력하도록 format() 함수를 이용해 형식화하세요\n",
    "# [출력형식 : 홍길동님의 나이는 23 살입니다]\n",
    "\n",
    "name = \"홍길동\"\n",
    "age = 23\n",
    "\n",
    "print(\"출력형식 :\", \"[{}님의 나이는 {}살입니다.]\".format(name, age))\n",
    "print(\"출력형식 :\", f\"[{name}님의 나이는 {age}살입니다.]\")"
   ]
  },
  {
   "cell_type": "code",
   "execution_count": 50,
   "id": "d0e25a13",
   "metadata": {},
   "outputs": [
    {
     "name": "stdout",
     "output_type": "stream",
     "text": [
      "첫 번째 정수를 입력하세요 10\n",
      "두 번째 정수를 입력하세요 0\n"
     ]
    },
    {
     "ename": "ZeroDivisionError",
     "evalue": "division by zero",
     "output_type": "error",
     "traceback": [
      "\u001b[1;31m---------------------------------------------------------------------------\u001b[0m",
      "\u001b[1;31mZeroDivisionError\u001b[0m                         Traceback (most recent call last)",
      "Cell \u001b[1;32mIn[50], line 9\u001b[0m\n\u001b[0;32m      7\u001b[0m diff \u001b[38;5;241m=\u001b[39m num1 \u001b[38;5;241m-\u001b[39m num2\n\u001b[0;32m      8\u001b[0m mult \u001b[38;5;241m=\u001b[39m num1 \u001b[38;5;241m*\u001b[39m num2\n\u001b[1;32m----> 9\u001b[0m shar \u001b[38;5;241m=\u001b[39m \u001b[43mnum1\u001b[49m\u001b[43m \u001b[49m\u001b[38;5;241;43m/\u001b[39;49m\u001b[43m \u001b[49m\u001b[43mnum2\u001b[49m\n\u001b[0;32m     10\u001b[0m qout \u001b[38;5;241m=\u001b[39m num1 \u001b[38;5;241m/\u001b[39m\u001b[38;5;241m/\u001b[39m num2\n\u001b[0;32m     11\u001b[0m rema \u001b[38;5;241m=\u001b[39m num1 \u001b[38;5;241m%\u001b[39m num2\n",
      "\u001b[1;31mZeroDivisionError\u001b[0m: division by zero"
     ]
    }
   ],
   "source": [
    "# 2. 두 정수를 입력받아 두 수의 덧셈 , 뺄셈 , 곱셈 , 나눗셈 , 몫 , 나머지를 출력하세요\n",
    "\n",
    "num1 = int(input(\"첫 번째 정수를 입력하세요 \"))\n",
    "num2 = int(input(\"두 번째 정수를 입력하세요 \"))\n",
    "\n",
    "plus = num1 + num2\n",
    "diff = num1 - num2\n",
    "mult = num1 * num2\n",
    "shar = num1 / num2\n",
    "qout = num1 // num2\n",
    "rema = num1 % num2\n",
    "\n",
    "print(num1, num2)\n",
    "print(\"덧셈 :\"+ str(plus), \"뺄셈 :\"+ str(diff), \"곱셈 :\"+ str(mult), \"나눗셈 :\"+ str(shar), \"몫 :\"+ str(qout), \"나머지 :\"+ str(rema), sep=\"\\n\")"
   ]
  },
  {
   "cell_type": "code",
   "execution_count": 20,
   "id": "bacbce4a",
   "metadata": {},
   "outputs": [
    {
     "name": "stdout",
     "output_type": "stream",
     "text": [
      "['Hello', 'World']\n",
      "World Hello\n"
     ]
    }
   ],
   "source": [
    "# 3. 문자열의 분리하기와 합치기 기능을 이용하여 \n",
    "# ‘Hello World'가 할당된 변수를 이용하여 ‘World Hello'로 출력하세요\n",
    "\n",
    "word = 'Hello World'\n",
    "\n",
    "splited_word = word.split()\n",
    "print(splited_word)\n",
    "print(splited_word[1], splited_word[0])\n"
   ]
  },
  {
   "cell_type": "code",
   "execution_count": 52,
   "id": "a8846edd",
   "metadata": {},
   "outputs": [
    {
     "name": "stdout",
     "output_type": "stream",
     "text": [
      "bcdefa\n",
      "bcdefa\n"
     ]
    }
   ],
   "source": [
    "# 4. x = ' abcdef ＇를 이용하여 bcdefa 로 출력하세요 (문자 슬라이싱이용)\n",
    "x = 'abcdef'\n",
    "print(x[1] + x[2] + x[3] + x[4] + x[5] + x[0])\n",
    "print(x[1:]+x[0])"
   ]
  },
  {
   "cell_type": "code",
   "execution_count": 12,
   "id": "4a12645a",
   "metadata": {},
   "outputs": [
    {
     "name": "stdout",
     "output_type": "stream",
     "text": [
      "fedcba\n"
     ]
    }
   ],
   "source": [
    "# 5. x = ‘ abcdef 를 이용하여 fedcba 로 출력하세요\n",
    "x = 'abcdef'\n",
    "\n",
    "print(x[::-1])"
   ]
  },
  {
   "cell_type": "code",
   "execution_count": 49,
   "id": "477632e8",
   "metadata": {},
   "outputs": [
    {
     "name": "stdout",
     "output_type": "stream",
     "text": [
      "오늘의 온도는 섭씨 몇 도 입니까? 30\n",
      "<class 'float'>\n",
      "86.0\n",
      "오늘의 온도는 화씨 86.00도입니다.\n"
     ]
    }
   ],
   "source": [
    "# 6. 오늘의 온도를 섭씨온도로 입력받아 화씨 온도로 변환하는 프로그램을 작성하세요 . 화\n",
    "# 씨 온도는 소수점이 있을 경우만 두번째 자리까지 출력되고 , 소수점이하 값이 없는 경\n",
    "# 우 소수점을 출력하지 않도록 합니다 (다음은 섭씨와 화씨의 변환 공식입니다 . \n",
    "# (C 는 섭씨 ,F 는 화씨)\n",
    "\n",
    "# C = (F-32) / 1.8  #섭씨\n",
    "# F = (C*1.8) + 32  #화씨\n",
    "\n",
    "\n",
    "c= float(input(\"오늘의 온도는 섭씨 몇 도 입니까? \"))\n",
    "f = (cc*1.8) + 32\n",
    "print(type(f))\n",
    "print(f)\n",
    "print(\"오늘의 온도는 화씨 {0:4.2f}도입니다.\".format(f))\n",
    "\n",
    "# 답안지 : \n",
    "# if f%1==0:\n",
    "    # print(\"입력하신 섭씨 {}도는 화씨온도 {:.0f}도입니다.\".format(c, f))\n",
    "# else:\n",
    "    # print(\"입력하신 섭씨 {}도는 화씨온도 {:.2f}도입니다.\".format(c, f))"
   ]
  },
  {
   "cell_type": "code",
   "execution_count": null,
   "id": "bb21ac76",
   "metadata": {},
   "outputs": [],
   "source": [
    "# 7. 다음 중 변수 선언으로 잘못된 것을 모두 고르시오\n",
    "# 정답 : 1,2,3\n",
    "① for  # 예약어을 변수로 사용할 수 없음\n",
    "② 10th # 변수의 시작을 숫자로 할 수 없음\n",
    "③ Student.name # 변수의 특수문자는 \"_\"만 사용가능. \".\"사용 불가\n",
    "④ _1234 # 변수 선언 가능"
   ]
  },
  {
   "cell_type": "code",
   "execution_count": 49,
   "id": "3a3ebcf7",
   "metadata": {},
   "outputs": [],
   "source": [
    "# 8. 다음의 코드의 실행결과는?\n",
    "\n",
    "text = \"Seoul A001 - programming with python\"\n",
    "print(text[:4]+text[-1]+text.split()[0])\n",
    "print(text[:4], text[-1], text.split()[0])\n",
    "    ## text[:4] = Seou\n",
    "    ## text[-1] = n\n",
    "    ## text.split()[0] = Seoul\n",
    "    \n",
    "# 정답 : SeounSeoul\n",
    "# 정답 : [Seou, n, Seoul]\n"
   ]
  },
  {
   "cell_type": "code",
   "execution_count": null,
   "id": "653cf023",
   "metadata": {},
   "outputs": [],
   "source": [
    "# 9. 다음 중 파이썬 3.x 버전에서 연산식과 그 결과의 출력이 잘못된 것은?\n",
    "# 정답 : 2\n",
    "① 수식 8//2 결과 4 \n",
    "② 수식 8/2 결과 4   # \"/\"(나숫셈) 연산자는 실수로 인식되어서 4.0으로 출력됨\n",
    "③ 수식 8 **2 결과 64"
   ]
  },
  {
   "cell_type": "code",
   "execution_count": 37,
   "id": "4acd4e6b",
   "metadata": {},
   "outputs": [
    {
     "ename": "TypeError",
     "evalue": "unsupported operand type(s) for +: 'int' and 'str'",
     "output_type": "error",
     "traceback": [
      "\u001b[1;31m---------------------------------------------------------------------------\u001b[0m",
      "\u001b[1;31mTypeError\u001b[0m                                 Traceback (most recent call last)",
      "Cell \u001b[1;32mIn[37], line 4\u001b[0m\n\u001b[0;32m      2\u001b[0m x \u001b[38;5;241m=\u001b[39m \u001b[38;5;241m5\u001b[39m\n\u001b[0;32m      3\u001b[0m y \u001b[38;5;241m=\u001b[39m \u001b[38;5;124m\"\u001b[39m\u001b[38;5;124mJohn\u001b[39m\u001b[38;5;124m\"\u001b[39m\n\u001b[1;32m----> 4\u001b[0m \u001b[38;5;28mprint\u001b[39m(\u001b[43mx\u001b[49m\u001b[43m \u001b[49m\u001b[38;5;241;43m+\u001b[39;49m\u001b[43m \u001b[49m\u001b[43my\u001b[49m)\n",
      "\u001b[1;31mTypeError\u001b[0m: unsupported operand type(s) for +: 'int' and 'str'"
     ]
    }
   ],
   "source": [
    "# 10. 아래 프로그램의 결과는?\n",
    "#x = 5\n",
    "#y = \"John\"\n",
    "#print(x + y)\n",
    "# 정답 : 숫자열과 문자열의 연산이 되어서 error 발생"
   ]
  },
  {
   "cell_type": "code",
   "execution_count": 51,
   "id": "4b355e60",
   "metadata": {},
   "outputs": [
    {
     "name": "stdout",
     "output_type": "stream",
     "text": [
      "나라\n"
     ]
    }
   ],
   "source": [
    "# 11. split() 함수를 이용하여 str_ 의 값 중 \"나라\" 를 출력하는 프로그램을 완성하시오.\n",
    "# str_ = \"우리 나라 대한 민국\"\n",
    "\n",
    "str_ = \"우리 나라 대한 민국\"\n",
    "print(str_.split()[1])"
   ]
  },
  {
   "cell_type": "code",
   "execution_count": null,
   "id": "870f9575",
   "metadata": {},
   "outputs": [],
   "source": []
  },
  {
   "cell_type": "code",
   "execution_count": null,
   "id": "c5a9e72d",
   "metadata": {},
   "outputs": [],
   "source": []
  },
  {
   "cell_type": "code",
   "execution_count": null,
   "id": "28a54dd3",
   "metadata": {},
   "outputs": [],
   "source": []
  },
  {
   "cell_type": "code",
   "execution_count": null,
   "id": "7296ee07",
   "metadata": {},
   "outputs": [],
   "source": []
  },
  {
   "cell_type": "code",
   "execution_count": null,
   "id": "5531bdeb",
   "metadata": {},
   "outputs": [],
   "source": []
  },
  {
   "cell_type": "code",
   "execution_count": null,
   "id": "da11489d",
   "metadata": {},
   "outputs": [],
   "source": []
  },
  {
   "cell_type": "code",
   "execution_count": null,
   "id": "5fa448c2",
   "metadata": {},
   "outputs": [],
   "source": []
  },
  {
   "cell_type": "code",
   "execution_count": null,
   "id": "5564b731",
   "metadata": {},
   "outputs": [],
   "source": []
  },
  {
   "cell_type": "code",
   "execution_count": null,
   "id": "d9b8713e",
   "metadata": {},
   "outputs": [],
   "source": []
  },
  {
   "cell_type": "code",
   "execution_count": null,
   "id": "e3111a11",
   "metadata": {},
   "outputs": [],
   "source": []
  },
  {
   "cell_type": "code",
   "execution_count": null,
   "id": "eb0755d8",
   "metadata": {},
   "outputs": [],
   "source": []
  },
  {
   "cell_type": "code",
   "execution_count": null,
   "id": "b6dcff80",
   "metadata": {},
   "outputs": [],
   "source": []
  },
  {
   "cell_type": "code",
   "execution_count": null,
   "id": "3d479801",
   "metadata": {},
   "outputs": [],
   "source": []
  },
  {
   "cell_type": "code",
   "execution_count": null,
   "id": "501c6fae",
   "metadata": {},
   "outputs": [],
   "source": []
  },
  {
   "cell_type": "code",
   "execution_count": null,
   "id": "2666f8bc",
   "metadata": {},
   "outputs": [],
   "source": []
  }
 ],
 "metadata": {
  "kernelspec": {
   "display_name": "Python 3 (ipykernel)",
   "language": "python",
   "name": "python3"
  },
  "language_info": {
   "codemirror_mode": {
    "name": "ipython",
    "version": 3
   },
   "file_extension": ".py",
   "mimetype": "text/x-python",
   "name": "python",
   "nbconvert_exporter": "python",
   "pygments_lexer": "ipython3",
   "version": "3.10.9"
  },
  "toc": {
   "base_numbering": 1,
   "nav_menu": {},
   "number_sections": false,
   "sideBar": true,
   "skip_h1_title": false,
   "title_cell": "Table of Contents",
   "title_sidebar": "Contents",
   "toc_cell": false,
   "toc_position": {
    "height": "calc(100% - 180px)",
    "left": "10px",
    "top": "150px",
    "width": "165px"
   },
   "toc_section_display": true,
   "toc_window_display": true
  }
 },
 "nbformat": 4,
 "nbformat_minor": 5
}
