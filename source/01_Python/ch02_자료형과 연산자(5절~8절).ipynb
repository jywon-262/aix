{
 "cells": [
  {
   "cell_type": "code",
   "execution_count": 1,
   "id": "dedf998b",
   "metadata": {},
   "outputs": [
    {
     "data": {
      "text/html": [
       "\n",
       "<style>\n",
       "div.container{width:90% !important;}\n",
       "div.cell.code_cell.rendered{width:100%;}\n",
       "div.input_prompt{padding:0px;}\n",
       "div.CodeMirror {font-family:Consolas; font-size:12pt;}\n",
       "div.text_cell_render.rendered_html{font-size:12pt;}\n",
       "div.output {font-size:12pt; font-weight:bold;}\n",
       "div.input {font-family:Consolas; font-size:12pt;}\n",
       "div.prompt {min-width:70px;}\n",
       "div#toc-wrapper{padding-top:120px;}\n",
       "div.text_cell_render ul li{font-size:12pt;padding:5px;}\n",
       "table.dataframe{font-size:12px;}\n",
       "</style>\n"
      ],
      "text/plain": [
       "<IPython.core.display.HTML object>"
      ]
     },
     "metadata": {},
     "output_type": "display_data"
    }
   ],
   "source": [
    "from IPython.display import display, HTML\n",
    "display(HTML(\"\"\"\n",
    "<style>\n",
    "div.container{width:90% !important;}\n",
    "div.cell.code_cell.rendered{width:100%;}\n",
    "div.input_prompt{padding:0px;}\n",
    "div.CodeMirror {font-family:Consolas; font-size:12pt;}\n",
    "div.text_cell_render.rendered_html{font-size:12pt;}\n",
    "div.output {font-size:12pt; font-weight:bold;}\n",
    "div.input {font-family:Consolas; font-size:12pt;}\n",
    "div.prompt {min-width:70px;}\n",
    "div#toc-wrapper{padding-top:120px;}\n",
    "div.text_cell_render ul li{font-size:12pt;padding:5px;}\n",
    "table.dataframe{font-size:12px;}\n",
    "</style>\n",
    "\"\"\"))"
   ]
  },
  {
   "cell_type": "markdown",
   "id": "40a27952",
   "metadata": {},
   "source": [
    "<b><font size=\"6\" color=\"red\">ch02. 자료형과 연산자</font></b>\n",
    "\n",
    "# 5절. 연산자\n",
    "\n",
    "## 5.1 산술연산자 : +, -, *, /(결과 float), //(몫), %(나머지), **(제곱)"
   ]
  },
  {
   "cell_type": "code",
   "execution_count": 9,
   "id": "107332d3",
   "metadata": {},
   "outputs": [
    {
     "name": "stdout",
     "output_type": "stream",
     "text": [
      "10*5승 = 100000\n",
      "4/2(결과 실수) = 2.0\n",
      "5/2(결과 실수) = 2.5\n",
      "5//2(몫) = 2\n",
      "5%2(나머지) = 1\n"
     ]
    }
   ],
   "source": [
    "print(\"10*5승 =\", 10**5)\n",
    "print(\"4/2(결과 실수) =\", 4/2)\n",
    "print(\"5/2(결과 실수) =\", 5/2)\n",
    "print(\"5//2(몫) =\", 5//2)\n",
    "print(\"5%2(나머지) =\", 5%2) "
   ]
  },
  {
   "cell_type": "code",
   "execution_count": 5,
   "id": "e645589a",
   "metadata": {},
   "outputs": [
    {
     "name": "stdout",
     "output_type": "stream",
     "text": [
      "4**2 = 16.0\n"
     ]
    }
   ],
   "source": [
    "# 정수끼리 연산은 결과가 정수 (단, /는 제외(나머지))\n",
    "# 정수와 실수, 실수끼리 연산 결과는 실수\n",
    "print(\"4**2 =\", 4**2.0)"
   ]
  },
  {
   "cell_type": "code",
   "execution_count": 12,
   "id": "4f9fee08",
   "metadata": {},
   "outputs": [
    {
     "name": "stdout",
     "output_type": "stream",
     "text": [
      "정수를 입력하세요:915\n",
      "입력하신 수는 915, 2로 나눈 나머지는 1라서 홀수를 입력하셨습니다.\n",
      "입력하신 수는 915, 2로 나눈 나머지는 1라서 홀수를 입력하셨습니다.\n"
     ]
    }
   ],
   "source": [
    "# quiz1. 정수를 입력받아 짝수인지 홀수인지 여부를 출력\n",
    "num = int(input(\"정수를 입력하세요:\"))\n",
    "result = num % 2 # -1, 0, 1\n",
    "if result:\n",
    "    temp = \"홀수\"\n",
    "else:\n",
    "    temp = \"짝수\"\n",
    "print(\"입력하신 수는 {}, 2로 나눈 나머지는 {}라서 {}를 입력하셨습니다.\".format(num, result, temp)) # 정답 1\n",
    "print(f\"입력하신 수는 {num}, 2로 나눈 나머지는 {result}라서 {temp}를 입력하셨습니다.\") 정답 2"
   ]
  },
  {
   "cell_type": "code",
   "execution_count": 19,
   "id": "f22b229e",
   "metadata": {},
   "outputs": [
    {
     "name": "stdout",
     "output_type": "stream",
     "text": [
      "숫자를 입력해주세요:101\n",
      "입력하신 숫자 101를 5로 나누었을 때 나머지가 1이기 때문에 5의 배수가 아닙니다.\n"
     ]
    }
   ],
   "source": [
    "# quiz2. 정수를 입력받아 5의 배수인지 여부를 출력\n",
    "num2 = int(input(\"정수를 입력해주세요:\"))\n",
    "result2 = num2 % 5 # -4, -3, -2, -1, 0, 1, 2, 3, 4\n",
    "if result2:\n",
    "    temp2 = \"아닙니다.\"\n",
    "else:\n",
    "    temp2 = \"맞습니다.\"\n",
    "print(\"입력하신 숫자 {}를 5로 나누었을 때 나머지가 {}이기 때문에 5의 배수가 {}\".format(num2, result2, temp2))\n"
   ]
  },
  {
   "cell_type": "code",
   "execution_count": 62,
   "id": "bde22da8",
   "metadata": {},
   "outputs": [
    {
     "name": "stdout",
     "output_type": "stream",
     "text": [
      "정수를 입력하세요:11\n",
      "5의 배수가 아닙니다.\n"
     ]
    }
   ],
   "source": [
    "# (강사님 풀이)\n",
    "# quiz2.정수를 입력받아 5의 배수인지 여부를 출력\n",
    "num = int(input(\"정수를 입력하세요:\"))\n",
    "if num%5: # 5로 나누었을 때 0이 아니면 True\n",
    "    print(\"5의 배수가 아닙니다.\")\n",
    "else:\n",
    "    print(\"5의 배수입니다.\")\n"
   ]
  },
  {
   "cell_type": "code",
   "execution_count": 63,
   "id": "be550d4e",
   "metadata": {},
   "outputs": [
    {
     "name": "stdout",
     "output_type": "stream",
     "text": [
      "국어:  99\t영어:100\t수학: 99\n",
      "총점: 298\t평균: 99.3\n"
     ]
    }
   ],
   "source": [
    "# quiz3.국어 영어 수학 점수를 입력받아 다음셀에서 다음과 같이 출력하도록 구현하시오.\n",
    "# 국어:99, 영어:100, 수학:99, 총점:298, 평균:99.3\n",
    "\n",
    "a = 99\n",
    "b = 100\n",
    "c = 99\n",
    "total = a + b + c\n",
    "average = (a + b+ c)/3\n",
    "ave = \"{:.1f}\".format(average)\n",
    "\n",
    "print(\"국어:  {}\\t영어:{}\\t수학: {}\".format(a, b, c))\n",
    "print(\"총점: {}\\t평균: {}\".format(total, ave))\n",
    "\n",
    "\n",
    "\n",
    "# print(\"국어:\", a, \"영어:\", b, \"수학:\", c, sep='\\t')\n",
    "# print(\"총점:\", total, \"평균: \", \"{:.1f}\".format(average), sep='\\t')"
   ]
  },
  {
   "cell_type": "code",
   "execution_count": 64,
   "id": "9ae9e1b6",
   "metadata": {},
   "outputs": [
    {
     "name": "stdout",
     "output_type": "stream",
     "text": [
      "국어?99\n",
      "영어?100\n",
      "수학?100\n"
     ]
    }
   ],
   "source": [
    "# (강사님 풀이) \n",
    "# quiz3.국어 영어 수학 점수를 입력받아 다음셀에서 다음과 같이 출력하도록 구현하시오\n",
    "# 국어:99, 영어:100, 수학:100, 총점:299, 평균:99.7\n",
    "\n",
    "kor = int(input(\"국어?\"))\n",
    "eng = int(input(\"영어?\"))\n",
    "mat = int(input(\"수학?\"))\n",
    "sum = kor + eng + mat\n",
    "avg = sum / 3"
   ]
  },
  {
   "cell_type": "code",
   "execution_count": 66,
   "id": "59b8edce",
   "metadata": {},
   "outputs": [
    {
     "name": "stdout",
     "output_type": "stream",
     "text": [
      "국어 :  99\t영어 : 100\t수학 : 100\n",
      "총점 : 299\t평균 :  99.7\n"
     ]
    }
   ],
   "source": [
    "print(\"국어 : {:3d}\\t영어 : {:3d}\\t수학 : {:3d}\".format(kor, eng, mat))\n",
    "print(\"총점 : {:3d}\\t평균 : {:5.1f}\".format(sum, avg))"
   ]
  },
  {
   "cell_type": "markdown",
   "id": "b8004925",
   "metadata": {},
   "source": [
    "## 5.2 할당연산자 : =,+=, -=, /=, *=, //=, %="
   ]
  },
  {
   "cell_type": "code",
   "execution_count": 68,
   "id": "6f70f7aa",
   "metadata": {},
   "outputs": [
    {
     "name": "stdout",
     "output_type": "stream",
     "text": [
      "a = 15\n"
     ]
    }
   ],
   "source": [
    "# a = b = 10 #잘 사용하지 않음 (할당연산자는 오른쪽에서 부터 할당시작함. 즉 b=10 부터 시작)\n",
    "a = 10\n",
    "a += 5 # a = a + 5와 동일\n",
    "print(f\"a = {a}\")"
   ]
  },
  {
   "cell_type": "code",
   "execution_count": 69,
   "id": "b0f92106",
   "metadata": {},
   "outputs": [
    {
     "name": "stdout",
     "output_type": "stream",
     "text": [
      "5빼기 : 10\n",
      "10배 : 100\n",
      "5나눈 몫 : 20\n"
     ]
    }
   ],
   "source": [
    "a -= 5 # a = a - 5\n",
    "print(\"5빼기 :\", a) # 10\n",
    "a *= 10 # a = a*10\n",
    "print(\"10배 :\", a) # 100\n",
    "a //= 5 # a = a//5\n",
    "print(\"5나눈 몫 :\", a)"
   ]
  },
  {
   "cell_type": "markdown",
   "id": "bf94e398",
   "metadata": {},
   "source": [
    "## 5.3 논리연산자 : &, and, |, or, not"
   ]
  },
  {
   "cell_type": "code",
   "execution_count": 76,
   "id": "2ce174d4",
   "metadata": {},
   "outputs": [
    {
     "name": "stdout",
     "output_type": "stream",
     "text": [
      "True\n",
      "0\n"
     ]
    }
   ],
   "source": [
    "# & : 논리연산자, 비트연산자\n",
    "print((10>3) & (10>5)) # 논리연산 True & True\n",
    "print(12 & 1) # 비트 연산 1 1 0 0 (12)\n",
    "                     #   0 0 0 1  (1)\n",
    "                     # &:0 0 0 0  \n"
   ]
  },
  {
   "cell_type": "code",
   "execution_count": 87,
   "id": "d7922182",
   "metadata": {},
   "outputs": [
    {
     "name": "stdout",
     "output_type": "stream",
     "text": [
      "True\n",
      "0\n"
     ]
    }
   ],
   "source": [
    "# and : 논리연산자. False로 판별되는 첫번째 항의 결과 반환.\n",
    "        ## 모든 항이 True면, 마지막항의 결과 반환\n",
    "print((10>3) and (10>5))\n",
    "print(0 and 1)"
   ]
  },
  {
   "cell_type": "code",
   "execution_count": 91,
   "id": "8e693a98",
   "metadata": {},
   "outputs": [
    {
     "name": "stdout",
     "output_type": "stream",
     "text": [
      "논리연산(연산자 앞뒤에 논리형일 때) : True\n",
      "비트연산(연산자 앞이나 뒤에 숫자일 때) : 3\n"
     ]
    }
   ],
   "source": [
    "# | : 논리연산, 비트연산\n",
    "result = True | False\n",
    "print('논리연산(연산자 앞뒤에 논리형일 때) :', result)\n",
    "result = False | 3 # 0000 (0)\n",
    "                   # 0011 (3)\n",
    "print('비트연산(연산자 앞이나 뒤에 숫자일 때) :', result)"
   ]
  },
  {
   "cell_type": "code",
   "execution_count": 93,
   "id": "dfa02964",
   "metadata": {},
   "outputs": [
    {
     "name": "stdout",
     "output_type": "stream",
     "text": [
      "[]\n",
      "Hong\n"
     ]
    }
   ],
   "source": [
    "# or : 논리연산. 참으로 판별되는 첫번째 항의 결과 반환\n",
    "        # 모든 항이 거짓이면 마지막항의 결과 반환\n",
    "print(False or 0 or '' or None or [])\n",
    "print(False or 0 or 'Hong' or None or [])"
   ]
  },
  {
   "cell_type": "code",
   "execution_count": 94,
   "id": "12f7d6b2",
   "metadata": {},
   "outputs": [
    {
     "data": {
      "text/plain": [
       "False"
      ]
     },
     "execution_count": 94,
     "metadata": {},
     "output_type": "execute_result"
    }
   ],
   "source": [
    "not 10>5"
   ]
  },
  {
   "cell_type": "markdown",
   "id": "22d938a0",
   "metadata": {},
   "source": [
    "## 5.3 비교연산자: >, >=, <, <=, ==(같다), !=(다르다)"
   ]
  },
  {
   "cell_type": "code",
   "execution_count": 97,
   "id": "e0772667",
   "metadata": {},
   "outputs": [
    {
     "name": "stdout",
     "output_type": "stream",
     "text": [
      "True\n",
      "True\n",
      "True\n"
     ]
    }
   ],
   "source": [
    "# 비교연산자는 이항(2개의 항), 삼항, 사항, ... 다항연산자\n",
    "x = 95\n",
    "print((90<=x) & (x<=100))\n",
    "print(90 <= x <=100)\n",
    "print(90 <= x <=100 > 10)"
   ]
  },
  {
   "cell_type": "code",
   "execution_count": 99,
   "id": "8daa23b1",
   "metadata": {},
   "outputs": [
    {
     "name": "stdout",
     "output_type": "stream",
     "text": [
      "True\n",
      "False\n",
      "False\n"
     ]
    }
   ],
   "source": [
    "# 비교연산자의 우선순위가 비트연산자(|,&)의 우선순위보다 낮다\n",
    "print( (10>5) & (10>7))\n",
    "print( 10>5 & 10>7 ) # 괄호가 없으면 우선순위가 높은 5&10(비트연산자)부터 실행\n",
    "print( 10 > 0 > 7 )\n",
    "# 0101(5) & 1010(10)"
   ]
  },
  {
   "cell_type": "code",
   "execution_count": 104,
   "id": "5348b287",
   "metadata": {},
   "outputs": [
    {
     "name": "stdout",
     "output_type": "stream",
     "text": [
      "True\n",
      "True\n"
     ]
    }
   ],
   "source": [
    "address = \"목동\"\n",
    "age = 29\n",
    "print( (address==\"목동\") & (age < 30) )\n",
    "print( address==\"목동\" and age < 30 )"
   ]
  },
  {
   "cell_type": "code",
   "execution_count": 109,
   "id": "35d63add",
   "metadata": {},
   "outputs": [
    {
     "data": {
      "text/plain": [
       "True"
      ]
     },
     "execution_count": 109,
     "metadata": {},
     "output_type": "execute_result"
    }
   ],
   "source": [
    "# 문자는 ASCII 코드 순으로 비교 : 특수문자 < 숫자문자 < 대문자 < 소문자(abc순)\n",
    "\"scott\" < \"tiger\""
   ]
  },
  {
   "cell_type": "code",
   "execution_count": 108,
   "id": "5ba8c2c1",
   "metadata": {},
   "outputs": [
    {
     "data": {
      "text/plain": [
       "True"
      ]
     },
     "execution_count": 108,
     "metadata": {},
     "output_type": "execute_result"
    }
   ],
   "source": [
    "\"김길동\" < \"홍길동\""
   ]
  },
  {
   "cell_type": "markdown",
   "id": "4dfe5629",
   "metadata": {},
   "source": [
    "## 5.5 비트연산 : &, |, ^(XOR), ~(반대), "
   ]
  },
  {
   "cell_type": "code",
   "execution_count": null,
   "id": "650eb8bc",
   "metadata": {},
   "outputs": [],
   "source": []
  },
  {
   "cell_type": "code",
   "execution_count": null,
   "id": "a65a9227",
   "metadata": {},
   "outputs": [],
   "source": []
  },
  {
   "cell_type": "code",
   "execution_count": null,
   "id": "5069688e",
   "metadata": {},
   "outputs": [],
   "source": []
  },
  {
   "cell_type": "code",
   "execution_count": null,
   "id": "f7ebbae9",
   "metadata": {},
   "outputs": [],
   "source": []
  },
  {
   "cell_type": "code",
   "execution_count": null,
   "id": "77acc38c",
   "metadata": {},
   "outputs": [],
   "source": []
  },
  {
   "cell_type": "code",
   "execution_count": null,
   "id": "558fd655",
   "metadata": {},
   "outputs": [],
   "source": []
  },
  {
   "cell_type": "code",
   "execution_count": null,
   "id": "f46b4cf0",
   "metadata": {},
   "outputs": [],
   "source": []
  },
  {
   "cell_type": "code",
   "execution_count": null,
   "id": "7b788fd2",
   "metadata": {},
   "outputs": [],
   "source": []
  },
  {
   "cell_type": "code",
   "execution_count": null,
   "id": "532afdea",
   "metadata": {},
   "outputs": [],
   "source": []
  },
  {
   "cell_type": "code",
   "execution_count": null,
   "id": "dc0a0280",
   "metadata": {},
   "outputs": [],
   "source": []
  },
  {
   "cell_type": "code",
   "execution_count": null,
   "id": "61cc7906",
   "metadata": {},
   "outputs": [],
   "source": []
  },
  {
   "cell_type": "code",
   "execution_count": null,
   "id": "f0ebd01f",
   "metadata": {},
   "outputs": [],
   "source": []
  },
  {
   "cell_type": "code",
   "execution_count": null,
   "id": "25c40725",
   "metadata": {},
   "outputs": [],
   "source": []
  },
  {
   "cell_type": "code",
   "execution_count": null,
   "id": "c500987e",
   "metadata": {},
   "outputs": [],
   "source": []
  },
  {
   "cell_type": "code",
   "execution_count": null,
   "id": "37ae1d97",
   "metadata": {},
   "outputs": [],
   "source": []
  },
  {
   "cell_type": "code",
   "execution_count": null,
   "id": "236be696",
   "metadata": {},
   "outputs": [],
   "source": []
  },
  {
   "cell_type": "code",
   "execution_count": null,
   "id": "df07d480",
   "metadata": {},
   "outputs": [],
   "source": []
  },
  {
   "cell_type": "code",
   "execution_count": null,
   "id": "0409ac12",
   "metadata": {},
   "outputs": [],
   "source": []
  },
  {
   "cell_type": "code",
   "execution_count": null,
   "id": "c34d7875",
   "metadata": {},
   "outputs": [],
   "source": []
  },
  {
   "cell_type": "code",
   "execution_count": null,
   "id": "fb201ebd",
   "metadata": {},
   "outputs": [],
   "source": []
  },
  {
   "cell_type": "code",
   "execution_count": null,
   "id": "720f0ffa",
   "metadata": {},
   "outputs": [],
   "source": []
  },
  {
   "cell_type": "code",
   "execution_count": null,
   "id": "d076f0c0",
   "metadata": {},
   "outputs": [],
   "source": []
  },
  {
   "cell_type": "code",
   "execution_count": null,
   "id": "d0e25a13",
   "metadata": {},
   "outputs": [],
   "source": []
  },
  {
   "cell_type": "code",
   "execution_count": null,
   "id": "bacbce4a",
   "metadata": {},
   "outputs": [],
   "source": []
  },
  {
   "cell_type": "code",
   "execution_count": null,
   "id": "a8846edd",
   "metadata": {},
   "outputs": [],
   "source": []
  },
  {
   "cell_type": "code",
   "execution_count": null,
   "id": "4a12645a",
   "metadata": {},
   "outputs": [],
   "source": []
  },
  {
   "cell_type": "code",
   "execution_count": null,
   "id": "477632e8",
   "metadata": {},
   "outputs": [],
   "source": []
  },
  {
   "cell_type": "code",
   "execution_count": null,
   "id": "bb21ac76",
   "metadata": {},
   "outputs": [],
   "source": []
  },
  {
   "cell_type": "code",
   "execution_count": null,
   "id": "449bdef3",
   "metadata": {},
   "outputs": [],
   "source": []
  },
  {
   "cell_type": "code",
   "execution_count": null,
   "id": "3a3ebcf7",
   "metadata": {},
   "outputs": [],
   "source": []
  },
  {
   "cell_type": "code",
   "execution_count": null,
   "id": "653cf023",
   "metadata": {},
   "outputs": [],
   "source": []
  },
  {
   "cell_type": "code",
   "execution_count": null,
   "id": "4a3513c3",
   "metadata": {},
   "outputs": [],
   "source": []
  },
  {
   "cell_type": "code",
   "execution_count": null,
   "id": "4acd4e6b",
   "metadata": {},
   "outputs": [],
   "source": []
  },
  {
   "cell_type": "code",
   "execution_count": null,
   "id": "4b355e60",
   "metadata": {},
   "outputs": [],
   "source": []
  },
  {
   "cell_type": "code",
   "execution_count": null,
   "id": "870f9575",
   "metadata": {},
   "outputs": [],
   "source": []
  },
  {
   "cell_type": "code",
   "execution_count": null,
   "id": "c5a9e72d",
   "metadata": {},
   "outputs": [],
   "source": []
  },
  {
   "cell_type": "code",
   "execution_count": null,
   "id": "28a54dd3",
   "metadata": {},
   "outputs": [],
   "source": []
  },
  {
   "cell_type": "code",
   "execution_count": null,
   "id": "7296ee07",
   "metadata": {},
   "outputs": [],
   "source": []
  },
  {
   "cell_type": "code",
   "execution_count": null,
   "id": "5531bdeb",
   "metadata": {},
   "outputs": [],
   "source": []
  },
  {
   "cell_type": "code",
   "execution_count": null,
   "id": "da11489d",
   "metadata": {},
   "outputs": [],
   "source": []
  },
  {
   "cell_type": "code",
   "execution_count": null,
   "id": "5fa448c2",
   "metadata": {},
   "outputs": [],
   "source": []
  },
  {
   "cell_type": "code",
   "execution_count": null,
   "id": "5564b731",
   "metadata": {},
   "outputs": [],
   "source": []
  },
  {
   "cell_type": "code",
   "execution_count": null,
   "id": "d9b8713e",
   "metadata": {},
   "outputs": [],
   "source": []
  },
  {
   "cell_type": "code",
   "execution_count": null,
   "id": "e3111a11",
   "metadata": {},
   "outputs": [],
   "source": []
  },
  {
   "cell_type": "code",
   "execution_count": null,
   "id": "eb0755d8",
   "metadata": {},
   "outputs": [],
   "source": []
  },
  {
   "cell_type": "code",
   "execution_count": null,
   "id": "b6dcff80",
   "metadata": {},
   "outputs": [],
   "source": []
  },
  {
   "cell_type": "code",
   "execution_count": null,
   "id": "3d479801",
   "metadata": {},
   "outputs": [],
   "source": []
  },
  {
   "cell_type": "code",
   "execution_count": null,
   "id": "501c6fae",
   "metadata": {},
   "outputs": [],
   "source": []
  },
  {
   "cell_type": "code",
   "execution_count": null,
   "id": "2666f8bc",
   "metadata": {},
   "outputs": [],
   "source": []
  }
 ],
 "metadata": {
  "kernelspec": {
   "display_name": "Python 3 (ipykernel)",
   "language": "python",
   "name": "python3"
  },
  "language_info": {
   "codemirror_mode": {
    "name": "ipython",
    "version": 3
   },
   "file_extension": ".py",
   "mimetype": "text/x-python",
   "name": "python",
   "nbconvert_exporter": "python",
   "pygments_lexer": "ipython3",
   "version": "3.10.9"
  },
  "toc": {
   "base_numbering": 1,
   "nav_menu": {},
   "number_sections": false,
   "sideBar": true,
   "skip_h1_title": false,
   "title_cell": "Table of Contents",
   "title_sidebar": "Contents",
   "toc_cell": false,
   "toc_position": {
    "height": "calc(100% - 180px)",
    "left": "10px",
    "top": "150px",
    "width": "165px"
   },
   "toc_section_display": true,
   "toc_window_display": true
  }
 },
 "nbformat": 4,
 "nbformat_minor": 5
}
