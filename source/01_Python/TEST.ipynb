{
 "cells": [
  {
   "cell_type": "code",
   "execution_count": 1,
   "id": "a51e1879",
   "metadata": {},
   "outputs": [
    {
     "name": "stdout",
     "output_type": "stream",
     "text": [
      "Hello, Python\n"
     ]
    }
   ],
   "source": [
    "print('Hello, Python')"
   ]
  },
  {
   "cell_type": "code",
   "execution_count": 1,
   "id": "3e8a3760",
   "metadata": {},
   "outputs": [
    {
     "data": {
      "text/html": [
       "\n",
       "<style>\n",
       "div.container{width:90% !important;}\n",
       "div.cell.code_cell.rendered{width:100%;}\n",
       "div.input_prompt{padding:0px;}\n",
       "div.CodeMirror {font-family:Consolas; font-size:12pt;}\n",
       "div.text_cell_render.rendered_html{font-size:12pt;}\n",
       "div.output {font-size:12pt; font-weight:bold;}\n",
       "div.input {font-family:Consolas; font-size:12pt;}\n",
       "div.prompt {min-width:70px;}\n",
       "div#toc-wrapper{padding-top:120px;}\n",
       "div.text_cell_render ul li{font-size:12pt;padding:5px;}\n",
       "table.dataframe{font-size:12px;}\n",
       "</style>\n"
      ],
      "text/plain": [
       "<IPython.core.display.HTML object>"
      ]
     },
     "metadata": {},
     "output_type": "display_data"
    }
   ],
   "source": [
    "from IPython.display import display, HTML\n",
    "display(HTML(\"\"\"\n",
    "<style>\n",
    "div.container{width:90% !important;}\n",
    "div.cell.code_cell.rendered{width:100%;}\n",
    "div.input_prompt{padding:0px;}\n",
    "div.CodeMirror {font-family:Consolas; font-size:12pt;}\n",
    "div.text_cell_render.rendered_html{font-size:12pt;}\n",
    "div.output {font-size:12pt; font-weight:bold;}\n",
    "div.input {font-family:Consolas; font-size:12pt;}\n",
    "div.prompt {min-width:70px;}\n",
    "div#toc-wrapper{padding-top:120px;}\n",
    "div.text_cell_render ul li{font-size:12pt;padding:5px;}\n",
    "table.dataframe{font-size:12px;}\n",
    "</style>\n",
    "\"\"\"))"
   ]
  },
  {
   "cell_type": "code",
   "execution_count": 1,
   "id": "58b0ee10",
   "metadata": {},
   "outputs": [
    {
     "name": "stdout",
     "output_type": "stream",
     "text": [
      "컴퓨터가 발생한 임의의 수 : 49\n",
      "1~100사이의 수를 맞춰 보세요50\n",
      "DOWN\n",
      "1~100사이의 수를 맞춰 보세요48\n",
      "UP\n",
      "1~100사이의 수를 맞춰 보세요22\n",
      "UP\n",
      "1~100사이의 수를 맞춰 보세요33\n",
      "UP\n",
      "1~100사이의 수를 맞춰 보세요44\n",
      "UP\n",
      "1~100사이의 수를 맞춰 보세요55\n",
      "DOWN\n",
      "1~100사이의 수를 맞춰 보세요49\n",
      "정답입니다. 축하합니다.\n",
      "End\n"
     ]
    }
   ],
   "source": [
    "import random\n",
    "randomNum = random.randint(1, 100)\n",
    "print(\"컴퓨터가 발생한 임의의 수 :\", randomNum) \n",
    "while True:\n",
    "    inputNum = int(input(\"1~100사이의 수를 맞춰 보세요\"))\n",
    "    if (inputNum<1) | (inputNum>100):\n",
    "        print(\"수의 범위를 벗어났습니다. 수의 범위는 1~100이고, {}를 입력하셨습니다.\".format(inputNum))\n",
    "    elif inputNum < randomNum:\n",
    "        print(\"UP\")\n",
    "    elif inputNum > randomNum:\n",
    "        print(\"DOWN\")\n",
    "    else:\n",
    "        print(\"정답입니다. 축하합니다.\")\n",
    "        break\n",
    "print(\"End\")"
   ]
  },
  {
   "cell_type": "code",
   "execution_count": null,
   "id": "c8d605a1",
   "metadata": {},
   "outputs": [],
   "source": []
  },
  {
   "cell_type": "code",
   "execution_count": null,
   "id": "41ef969f",
   "metadata": {},
   "outputs": [],
   "source": []
  }
 ],
 "metadata": {
  "kernelspec": {
   "display_name": "Python 3 (ipykernel)",
   "language": "python",
   "name": "python3"
  },
  "language_info": {
   "codemirror_mode": {
    "name": "ipython",
    "version": 3
   },
   "file_extension": ".py",
   "mimetype": "text/x-python",
   "name": "python",
   "nbconvert_exporter": "python",
   "pygments_lexer": "ipython3",
   "version": "3.10.9"
  },
  "toc": {
   "base_numbering": 1,
   "nav_menu": {},
   "number_sections": false,
   "sideBar": true,
   "skip_h1_title": false,
   "title_cell": "Table of Contents",
   "title_sidebar": "Contents",
   "toc_cell": false,
   "toc_position": {},
   "toc_section_display": true,
   "toc_window_display": false
  }
 },
 "nbformat": 4,
 "nbformat_minor": 5
}
